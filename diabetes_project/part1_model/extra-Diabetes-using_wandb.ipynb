{
 "cells": [
  {
   "cell_type": "markdown",
   "id": "3a915c40",
   "metadata": {},
   "source": [
    "Several constraints were placed on the selection of these instances from a larger database. In particular, all patients here are females at least 21 years old of Pima Indian heritage.\n",
    "\n",
    "- Pregnancies: Number of times pregnant\n",
    "- Glucose: Plasma glucose concentration a 2 hours in an oral glucose tolerance test\n",
    "- BloodPressure: Diastolic blood pressure (mm Hg)\n",
    "- SkinThickness: Triceps skin fold thickness (mm)\n",
    "- Insulin: 2-Hour serum insulin (mu U/ml)\n",
    "- BMI: Body mass index (weight in kg/(height in m)^2)\n",
    "- DiabetesPedigreeFunction: Diabetes pedigree function\n",
    "- Age: Age (years)\n",
    "- Outcome: Class variable (0 or 1)\n",
    "\n",
    "0 means that a female has non-diabetic and 1 means that a female is diabetes."
   ]
  },
  {
   "cell_type": "code",
   "execution_count": 1,
   "id": "9bd74f83",
   "metadata": {},
   "outputs": [],
   "source": [
    "import pandas as pd\n",
    "import numpy as np\n",
    "import matplotlib.pyplot as plt\n",
    "import seaborn as sns\n",
    "import missingno as msno\n",
    "import os\n",
    "import random\n",
    "import string\n",
    "import sys\n",
    "\n",
    "# sampling\n",
    "from imblearn.under_sampling import RandomUnderSampler\n",
    "from imblearn.over_sampling import RandomOverSampler\n",
    "\n",
    "\n",
    "from sklearn.impute import KNNImputer\n",
    "from sklearn.model_selection import train_test_split, KFold, GridSearchCV, cross_val_score\n",
    "from sklearn.metrics import confusion_matrix, classification_report\n",
    "\n",
    "from sklearn.linear_model import LogisticRegression\n",
    "from sklearn.neighbors import KNeighborsClassifier\n",
    "from sklearn.svm import SVC\n",
    "from sklearn.neural_network import MLPClassifier\n",
    "from sklearn.tree import DecisionTreeClassifier\n",
    "from sklearn.ensemble import RandomForestClassifier\n",
    "from sklearn.ensemble import GradientBoostingClassifier\n",
    "from lightgbm import LGBMClassifier\n",
    "\n",
    "import pickle\n",
    "\n",
    "import wandb\n",
    "\n",
    "import warnings\n",
    "warnings.filterwarnings('ignore')\n",
    "\n",
    "# feature selection\n",
    "from sklearn.feature_selection import SelectKBest\n",
    "from sklearn.feature_selection import chi2\n",
    "from mlxtend.feature_selection import SequentialFeatureSelector as SFS"
   ]
  },
  {
   "cell_type": "code",
   "execution_count": null,
   "id": "e1ae7177",
   "metadata": {},
   "outputs": [],
   "source": [
    "wandb.login()"
   ]
  },
  {
   "cell_type": "code",
   "execution_count": 3,
   "id": "942e7b58",
   "metadata": {},
   "outputs": [],
   "source": [
    "df = pd.read_csv('diabetes.csv')"
   ]
  },
  {
   "cell_type": "code",
   "execution_count": 4,
   "id": "70d5ccd4",
   "metadata": {},
   "outputs": [
    {
     "data": {
      "text/html": [
       "<div>\n",
       "<style scoped>\n",
       "    .dataframe tbody tr th:only-of-type {\n",
       "        vertical-align: middle;\n",
       "    }\n",
       "\n",
       "    .dataframe tbody tr th {\n",
       "        vertical-align: top;\n",
       "    }\n",
       "\n",
       "    .dataframe thead th {\n",
       "        text-align: right;\n",
       "    }\n",
       "</style>\n",
       "<table border=\"1\" class=\"dataframe\">\n",
       "  <thead>\n",
       "    <tr style=\"text-align: right;\">\n",
       "      <th></th>\n",
       "      <th>Pregnancies</th>\n",
       "      <th>Glucose</th>\n",
       "      <th>BloodPressure</th>\n",
       "      <th>SkinThickness</th>\n",
       "      <th>Insulin</th>\n",
       "      <th>BMI</th>\n",
       "      <th>DiabetesPedigreeFunction</th>\n",
       "      <th>Age</th>\n",
       "      <th>Outcome</th>\n",
       "    </tr>\n",
       "  </thead>\n",
       "  <tbody>\n",
       "    <tr>\n",
       "      <th>0</th>\n",
       "      <td>6</td>\n",
       "      <td>148</td>\n",
       "      <td>72</td>\n",
       "      <td>35</td>\n",
       "      <td>0</td>\n",
       "      <td>33.6</td>\n",
       "      <td>0.627</td>\n",
       "      <td>50</td>\n",
       "      <td>1</td>\n",
       "    </tr>\n",
       "    <tr>\n",
       "      <th>1</th>\n",
       "      <td>1</td>\n",
       "      <td>85</td>\n",
       "      <td>66</td>\n",
       "      <td>29</td>\n",
       "      <td>0</td>\n",
       "      <td>26.6</td>\n",
       "      <td>0.351</td>\n",
       "      <td>31</td>\n",
       "      <td>0</td>\n",
       "    </tr>\n",
       "    <tr>\n",
       "      <th>2</th>\n",
       "      <td>8</td>\n",
       "      <td>183</td>\n",
       "      <td>64</td>\n",
       "      <td>0</td>\n",
       "      <td>0</td>\n",
       "      <td>23.3</td>\n",
       "      <td>0.672</td>\n",
       "      <td>32</td>\n",
       "      <td>1</td>\n",
       "    </tr>\n",
       "    <tr>\n",
       "      <th>3</th>\n",
       "      <td>1</td>\n",
       "      <td>89</td>\n",
       "      <td>66</td>\n",
       "      <td>23</td>\n",
       "      <td>94</td>\n",
       "      <td>28.1</td>\n",
       "      <td>0.167</td>\n",
       "      <td>21</td>\n",
       "      <td>0</td>\n",
       "    </tr>\n",
       "    <tr>\n",
       "      <th>4</th>\n",
       "      <td>0</td>\n",
       "      <td>137</td>\n",
       "      <td>40</td>\n",
       "      <td>35</td>\n",
       "      <td>168</td>\n",
       "      <td>43.1</td>\n",
       "      <td>2.288</td>\n",
       "      <td>33</td>\n",
       "      <td>1</td>\n",
       "    </tr>\n",
       "    <tr>\n",
       "      <th>...</th>\n",
       "      <td>...</td>\n",
       "      <td>...</td>\n",
       "      <td>...</td>\n",
       "      <td>...</td>\n",
       "      <td>...</td>\n",
       "      <td>...</td>\n",
       "      <td>...</td>\n",
       "      <td>...</td>\n",
       "      <td>...</td>\n",
       "    </tr>\n",
       "    <tr>\n",
       "      <th>763</th>\n",
       "      <td>10</td>\n",
       "      <td>101</td>\n",
       "      <td>76</td>\n",
       "      <td>48</td>\n",
       "      <td>180</td>\n",
       "      <td>32.9</td>\n",
       "      <td>0.171</td>\n",
       "      <td>63</td>\n",
       "      <td>0</td>\n",
       "    </tr>\n",
       "    <tr>\n",
       "      <th>764</th>\n",
       "      <td>2</td>\n",
       "      <td>122</td>\n",
       "      <td>70</td>\n",
       "      <td>27</td>\n",
       "      <td>0</td>\n",
       "      <td>36.8</td>\n",
       "      <td>0.340</td>\n",
       "      <td>27</td>\n",
       "      <td>0</td>\n",
       "    </tr>\n",
       "    <tr>\n",
       "      <th>765</th>\n",
       "      <td>5</td>\n",
       "      <td>121</td>\n",
       "      <td>72</td>\n",
       "      <td>23</td>\n",
       "      <td>112</td>\n",
       "      <td>26.2</td>\n",
       "      <td>0.245</td>\n",
       "      <td>30</td>\n",
       "      <td>0</td>\n",
       "    </tr>\n",
       "    <tr>\n",
       "      <th>766</th>\n",
       "      <td>1</td>\n",
       "      <td>126</td>\n",
       "      <td>60</td>\n",
       "      <td>0</td>\n",
       "      <td>0</td>\n",
       "      <td>30.1</td>\n",
       "      <td>0.349</td>\n",
       "      <td>47</td>\n",
       "      <td>1</td>\n",
       "    </tr>\n",
       "    <tr>\n",
       "      <th>767</th>\n",
       "      <td>1</td>\n",
       "      <td>93</td>\n",
       "      <td>70</td>\n",
       "      <td>31</td>\n",
       "      <td>0</td>\n",
       "      <td>30.4</td>\n",
       "      <td>0.315</td>\n",
       "      <td>23</td>\n",
       "      <td>0</td>\n",
       "    </tr>\n",
       "  </tbody>\n",
       "</table>\n",
       "<p>768 rows × 9 columns</p>\n",
       "</div>"
      ],
      "text/plain": [
       "     Pregnancies  Glucose  BloodPressure  SkinThickness  Insulin   BMI  \\\n",
       "0              6      148             72             35        0  33.6   \n",
       "1              1       85             66             29        0  26.6   \n",
       "2              8      183             64              0        0  23.3   \n",
       "3              1       89             66             23       94  28.1   \n",
       "4              0      137             40             35      168  43.1   \n",
       "..           ...      ...            ...            ...      ...   ...   \n",
       "763           10      101             76             48      180  32.9   \n",
       "764            2      122             70             27        0  36.8   \n",
       "765            5      121             72             23      112  26.2   \n",
       "766            1      126             60              0        0  30.1   \n",
       "767            1       93             70             31        0  30.4   \n",
       "\n",
       "     DiabetesPedigreeFunction  Age  Outcome  \n",
       "0                       0.627   50        1  \n",
       "1                       0.351   31        0  \n",
       "2                       0.672   32        1  \n",
       "3                       0.167   21        0  \n",
       "4                       2.288   33        1  \n",
       "..                        ...  ...      ...  \n",
       "763                     0.171   63        0  \n",
       "764                     0.340   27        0  \n",
       "765                     0.245   30        0  \n",
       "766                     0.349   47        1  \n",
       "767                     0.315   23        0  \n",
       "\n",
       "[768 rows x 9 columns]"
      ]
     },
     "execution_count": 4,
     "metadata": {},
     "output_type": "execute_result"
    }
   ],
   "source": [
    "df"
   ]
  },
  {
   "cell_type": "code",
   "execution_count": 5,
   "id": "28f4f649",
   "metadata": {},
   "outputs": [
    {
     "data": {
      "text/plain": [
       "(768, 9)"
      ]
     },
     "execution_count": 5,
     "metadata": {},
     "output_type": "execute_result"
    }
   ],
   "source": [
    "df.shape"
   ]
  },
  {
   "cell_type": "code",
   "execution_count": 6,
   "id": "0bd38d0f",
   "metadata": {},
   "outputs": [
    {
     "data": {
      "text/html": [
       "<div>\n",
       "<style scoped>\n",
       "    .dataframe tbody tr th:only-of-type {\n",
       "        vertical-align: middle;\n",
       "    }\n",
       "\n",
       "    .dataframe tbody tr th {\n",
       "        vertical-align: top;\n",
       "    }\n",
       "\n",
       "    .dataframe thead th {\n",
       "        text-align: right;\n",
       "    }\n",
       "</style>\n",
       "<table border=\"1\" class=\"dataframe\">\n",
       "  <thead>\n",
       "    <tr style=\"text-align: right;\">\n",
       "      <th></th>\n",
       "      <th>Pregnancies</th>\n",
       "      <th>Glucose</th>\n",
       "      <th>BloodPressure</th>\n",
       "      <th>SkinThickness</th>\n",
       "      <th>Insulin</th>\n",
       "      <th>BMI</th>\n",
       "      <th>DiabetesPedigreeFunction</th>\n",
       "      <th>Age</th>\n",
       "      <th>Outcome</th>\n",
       "    </tr>\n",
       "  </thead>\n",
       "  <tbody>\n",
       "    <tr>\n",
       "      <th>count</th>\n",
       "      <td>768.000000</td>\n",
       "      <td>768.000000</td>\n",
       "      <td>768.000000</td>\n",
       "      <td>768.000000</td>\n",
       "      <td>768.000000</td>\n",
       "      <td>768.000000</td>\n",
       "      <td>768.000000</td>\n",
       "      <td>768.000000</td>\n",
       "      <td>768.000000</td>\n",
       "    </tr>\n",
       "    <tr>\n",
       "      <th>mean</th>\n",
       "      <td>3.845052</td>\n",
       "      <td>120.894531</td>\n",
       "      <td>69.105469</td>\n",
       "      <td>20.536458</td>\n",
       "      <td>79.799479</td>\n",
       "      <td>31.992578</td>\n",
       "      <td>0.471876</td>\n",
       "      <td>33.240885</td>\n",
       "      <td>0.348958</td>\n",
       "    </tr>\n",
       "    <tr>\n",
       "      <th>std</th>\n",
       "      <td>3.369578</td>\n",
       "      <td>31.972618</td>\n",
       "      <td>19.355807</td>\n",
       "      <td>15.952218</td>\n",
       "      <td>115.244002</td>\n",
       "      <td>7.884160</td>\n",
       "      <td>0.331329</td>\n",
       "      <td>11.760232</td>\n",
       "      <td>0.476951</td>\n",
       "    </tr>\n",
       "    <tr>\n",
       "      <th>min</th>\n",
       "      <td>0.000000</td>\n",
       "      <td>0.000000</td>\n",
       "      <td>0.000000</td>\n",
       "      <td>0.000000</td>\n",
       "      <td>0.000000</td>\n",
       "      <td>0.000000</td>\n",
       "      <td>0.078000</td>\n",
       "      <td>21.000000</td>\n",
       "      <td>0.000000</td>\n",
       "    </tr>\n",
       "    <tr>\n",
       "      <th>25%</th>\n",
       "      <td>1.000000</td>\n",
       "      <td>99.000000</td>\n",
       "      <td>62.000000</td>\n",
       "      <td>0.000000</td>\n",
       "      <td>0.000000</td>\n",
       "      <td>27.300000</td>\n",
       "      <td>0.243750</td>\n",
       "      <td>24.000000</td>\n",
       "      <td>0.000000</td>\n",
       "    </tr>\n",
       "    <tr>\n",
       "      <th>50%</th>\n",
       "      <td>3.000000</td>\n",
       "      <td>117.000000</td>\n",
       "      <td>72.000000</td>\n",
       "      <td>23.000000</td>\n",
       "      <td>30.500000</td>\n",
       "      <td>32.000000</td>\n",
       "      <td>0.372500</td>\n",
       "      <td>29.000000</td>\n",
       "      <td>0.000000</td>\n",
       "    </tr>\n",
       "    <tr>\n",
       "      <th>75%</th>\n",
       "      <td>6.000000</td>\n",
       "      <td>140.250000</td>\n",
       "      <td>80.000000</td>\n",
       "      <td>32.000000</td>\n",
       "      <td>127.250000</td>\n",
       "      <td>36.600000</td>\n",
       "      <td>0.626250</td>\n",
       "      <td>41.000000</td>\n",
       "      <td>1.000000</td>\n",
       "    </tr>\n",
       "    <tr>\n",
       "      <th>max</th>\n",
       "      <td>17.000000</td>\n",
       "      <td>199.000000</td>\n",
       "      <td>122.000000</td>\n",
       "      <td>99.000000</td>\n",
       "      <td>846.000000</td>\n",
       "      <td>67.100000</td>\n",
       "      <td>2.420000</td>\n",
       "      <td>81.000000</td>\n",
       "      <td>1.000000</td>\n",
       "    </tr>\n",
       "  </tbody>\n",
       "</table>\n",
       "</div>"
      ],
      "text/plain": [
       "       Pregnancies     Glucose  BloodPressure  SkinThickness     Insulin  \\\n",
       "count   768.000000  768.000000     768.000000     768.000000  768.000000   \n",
       "mean      3.845052  120.894531      69.105469      20.536458   79.799479   \n",
       "std       3.369578   31.972618      19.355807      15.952218  115.244002   \n",
       "min       0.000000    0.000000       0.000000       0.000000    0.000000   \n",
       "25%       1.000000   99.000000      62.000000       0.000000    0.000000   \n",
       "50%       3.000000  117.000000      72.000000      23.000000   30.500000   \n",
       "75%       6.000000  140.250000      80.000000      32.000000  127.250000   \n",
       "max      17.000000  199.000000     122.000000      99.000000  846.000000   \n",
       "\n",
       "              BMI  DiabetesPedigreeFunction         Age     Outcome  \n",
       "count  768.000000                768.000000  768.000000  768.000000  \n",
       "mean    31.992578                  0.471876   33.240885    0.348958  \n",
       "std      7.884160                  0.331329   11.760232    0.476951  \n",
       "min      0.000000                  0.078000   21.000000    0.000000  \n",
       "25%     27.300000                  0.243750   24.000000    0.000000  \n",
       "50%     32.000000                  0.372500   29.000000    0.000000  \n",
       "75%     36.600000                  0.626250   41.000000    1.000000  \n",
       "max     67.100000                  2.420000   81.000000    1.000000  "
      ]
     },
     "execution_count": 6,
     "metadata": {},
     "output_type": "execute_result"
    }
   ],
   "source": [
    "df.describe()"
   ]
  },
  {
   "cell_type": "code",
   "execution_count": 7,
   "id": "7f47cc28",
   "metadata": {},
   "outputs": [
    {
     "data": {
      "text/plain": [
       "Pregnancies                 0\n",
       "Glucose                     0\n",
       "BloodPressure               0\n",
       "SkinThickness               0\n",
       "Insulin                     0\n",
       "BMI                         0\n",
       "DiabetesPedigreeFunction    0\n",
       "Age                         0\n",
       "Outcome                     0\n",
       "dtype: int64"
      ]
     },
     "execution_count": 7,
     "metadata": {},
     "output_type": "execute_result"
    }
   ],
   "source": [
    "df.isnull().sum()"
   ]
  },
  {
   "cell_type": "code",
   "execution_count": 8,
   "id": "ddec06b0",
   "metadata": {},
   "outputs": [
    {
     "name": "stdout",
     "output_type": "stream",
     "text": [
      "Pregnancies\n",
      "1     135\n",
      "0     111\n",
      "2     103\n",
      "3      75\n",
      "4      68\n",
      "5      57\n",
      "6      50\n",
      "7      45\n",
      "8      38\n",
      "9      28\n",
      "10     24\n",
      "11     11\n",
      "13     10\n",
      "12      9\n",
      "14      2\n",
      "15      1\n",
      "17      1\n",
      "Name: Pregnancies, dtype: int64\n",
      "Glucose\n",
      "99     17\n",
      "100    17\n",
      "111    14\n",
      "129    14\n",
      "125    14\n",
      "       ..\n",
      "191     1\n",
      "177     1\n",
      "44      1\n",
      "62      1\n",
      "190     1\n",
      "Name: Glucose, Length: 136, dtype: int64\n",
      "BloodPressure\n",
      "70     57\n",
      "74     52\n",
      "78     45\n",
      "68     45\n",
      "72     44\n",
      "64     43\n",
      "80     40\n",
      "76     39\n",
      "60     37\n",
      "0      35\n",
      "62     34\n",
      "66     30\n",
      "82     30\n",
      "88     25\n",
      "84     23\n",
      "90     22\n",
      "86     21\n",
      "58     21\n",
      "50     13\n",
      "56     12\n",
      "52     11\n",
      "54     11\n",
      "75      8\n",
      "92      8\n",
      "65      7\n",
      "85      6\n",
      "94      6\n",
      "48      5\n",
      "96      4\n",
      "44      4\n",
      "100     3\n",
      "106     3\n",
      "98      3\n",
      "110     3\n",
      "55      2\n",
      "108     2\n",
      "104     2\n",
      "46      2\n",
      "30      2\n",
      "122     1\n",
      "95      1\n",
      "102     1\n",
      "61      1\n",
      "24      1\n",
      "38      1\n",
      "40      1\n",
      "114     1\n",
      "Name: BloodPressure, dtype: int64\n",
      "SkinThickness\n",
      "0     227\n",
      "32     31\n",
      "30     27\n",
      "27     23\n",
      "23     22\n",
      "33     20\n",
      "28     20\n",
      "18     20\n",
      "31     19\n",
      "19     18\n",
      "39     18\n",
      "29     17\n",
      "40     16\n",
      "25     16\n",
      "26     16\n",
      "22     16\n",
      "37     16\n",
      "41     15\n",
      "35     15\n",
      "36     14\n",
      "15     14\n",
      "17     14\n",
      "20     13\n",
      "24     12\n",
      "42     11\n",
      "13     11\n",
      "21     10\n",
      "46      8\n",
      "34      8\n",
      "12      7\n",
      "38      7\n",
      "11      6\n",
      "43      6\n",
      "16      6\n",
      "45      6\n",
      "14      6\n",
      "44      5\n",
      "10      5\n",
      "48      4\n",
      "47      4\n",
      "49      3\n",
      "50      3\n",
      "8       2\n",
      "7       2\n",
      "52      2\n",
      "54      2\n",
      "63      1\n",
      "60      1\n",
      "56      1\n",
      "51      1\n",
      "99      1\n",
      "Name: SkinThickness, dtype: int64\n",
      "Insulin\n",
      "0      374\n",
      "105     11\n",
      "130      9\n",
      "140      9\n",
      "120      8\n",
      "      ... \n",
      "73       1\n",
      "171      1\n",
      "255      1\n",
      "52       1\n",
      "112      1\n",
      "Name: Insulin, Length: 186, dtype: int64\n",
      "BMI\n",
      "32.0    13\n",
      "31.6    12\n",
      "31.2    12\n",
      "0.0     11\n",
      "32.4    10\n",
      "        ..\n",
      "36.7     1\n",
      "41.8     1\n",
      "42.6     1\n",
      "42.8     1\n",
      "46.3     1\n",
      "Name: BMI, Length: 248, dtype: int64\n",
      "DiabetesPedigreeFunction\n",
      "0.258    6\n",
      "0.254    6\n",
      "0.268    5\n",
      "0.207    5\n",
      "0.261    5\n",
      "        ..\n",
      "1.353    1\n",
      "0.655    1\n",
      "0.092    1\n",
      "0.926    1\n",
      "0.171    1\n",
      "Name: DiabetesPedigreeFunction, Length: 517, dtype: int64\n",
      "Age\n",
      "22    72\n",
      "21    63\n",
      "25    48\n",
      "24    46\n",
      "23    38\n",
      "28    35\n",
      "26    33\n",
      "27    32\n",
      "29    29\n",
      "31    24\n",
      "41    22\n",
      "30    21\n",
      "37    19\n",
      "42    18\n",
      "33    17\n",
      "38    16\n",
      "36    16\n",
      "32    16\n",
      "45    15\n",
      "34    14\n",
      "46    13\n",
      "43    13\n",
      "40    13\n",
      "39    12\n",
      "35    10\n",
      "50     8\n",
      "51     8\n",
      "52     8\n",
      "44     8\n",
      "58     7\n",
      "47     6\n",
      "54     6\n",
      "49     5\n",
      "48     5\n",
      "57     5\n",
      "53     5\n",
      "60     5\n",
      "66     4\n",
      "63     4\n",
      "62     4\n",
      "55     4\n",
      "67     3\n",
      "56     3\n",
      "59     3\n",
      "65     3\n",
      "69     2\n",
      "61     2\n",
      "72     1\n",
      "81     1\n",
      "64     1\n",
      "70     1\n",
      "68     1\n",
      "Name: Age, dtype: int64\n",
      "Outcome\n",
      "0    500\n",
      "1    268\n",
      "Name: Outcome, dtype: int64\n"
     ]
    }
   ],
   "source": [
    "for d in df.columns:\n",
    "    print(d)\n",
    "    print(df[d].value_counts())"
   ]
  },
  {
   "cell_type": "code",
   "execution_count": 9,
   "id": "1c7d9d9f",
   "metadata": {},
   "outputs": [
    {
     "data": {
      "text/plain": [
       "0    65.104167\n",
       "1    34.895833\n",
       "Name: Outcome, dtype: float64"
      ]
     },
     "execution_count": 9,
     "metadata": {},
     "output_type": "execute_result"
    }
   ],
   "source": [
    "df['Outcome'].value_counts() * 100 / len(df)"
   ]
  },
  {
   "cell_type": "code",
   "execution_count": 10,
   "id": "d4390cdc",
   "metadata": {},
   "outputs": [
    {
     "data": {
      "text/plain": [
       "Index(['Pregnancies', 'Glucose', 'BloodPressure', 'SkinThickness', 'Insulin',\n",
       "       'BMI', 'DiabetesPedigreeFunction', 'Age', 'Outcome'],\n",
       "      dtype='object')"
      ]
     },
     "execution_count": 10,
     "metadata": {},
     "output_type": "execute_result"
    }
   ],
   "source": [
    "df.columns"
   ]
  },
  {
   "cell_type": "code",
   "execution_count": 11,
   "id": "9603ea03",
   "metadata": {},
   "outputs": [],
   "source": [
    "df[['Glucose', 'BloodPressure', 'SkinThickness', 'Insulin', 'BMI', 'DiabetesPedigreeFunction']] = \\\n",
    "df[['Glucose', 'BloodPressure', 'SkinThickness', 'Insulin', 'BMI', 'DiabetesPedigreeFunction']].replace(0, np.NaN)"
   ]
  },
  {
   "cell_type": "code",
   "execution_count": 12,
   "id": "7cc09800",
   "metadata": {},
   "outputs": [
    {
     "data": {
      "text/plain": [
       "Pregnancies                   0\n",
       "Glucose                       5\n",
       "BloodPressure                35\n",
       "SkinThickness               227\n",
       "Insulin                     374\n",
       "BMI                          11\n",
       "DiabetesPedigreeFunction      0\n",
       "Age                           0\n",
       "Outcome                       0\n",
       "dtype: int64"
      ]
     },
     "execution_count": 12,
     "metadata": {},
     "output_type": "execute_result"
    }
   ],
   "source": [
    "df.isnull().sum()"
   ]
  },
  {
   "cell_type": "code",
   "execution_count": 13,
   "id": "3d5dcd5d",
   "metadata": {},
   "outputs": [
    {
     "data": {
      "image/png": "[encoded data removed]",
      "text/plain": [
       "<Figure size 1800x720 with 3 Axes>"
      ]
     },
     "metadata": {
      "needs_background": "light"
     },
     "output_type": "display_data"
    }
   ],
   "source": [
    "msno.bar(df);"
   ]
  },
  {
   "cell_type": "code",
   "execution_count": 14,
   "id": "7c70714a",
   "metadata": {},
   "outputs": [],
   "source": [
    "imputer = KNNImputer(n_neighbors=2)\n",
    "df_ = pd.DataFrame(imputer.fit_transform(df),columns=df.columns)"
   ]
  },
  {
   "cell_type": "code",
   "execution_count": 15,
   "id": "421a2238",
   "metadata": {},
   "outputs": [],
   "source": [
    "def translateBMI(bmi):\n",
    "    if bmi <= 18.5:\n",
    "        return 'Underweight'\n",
    "    elif bmi > 18.5 and bmi <= 24.9:\n",
    "        return 'Normal'\n",
    "    elif bmi > 24.9 and bmi <= 29.9:\n",
    "        return 'Overweight'\n",
    "    elif bmi > 29.9 and bmi <= 34.9:\n",
    "        return 'Obesity 1'\n",
    "    elif bmi > 34.9 and bmi <= 39.9:\n",
    "        return 'Obesity 2'\n",
    "    elif bmi > 39.9:\n",
    "        return 'Obesity 3'"
   ]
  },
  {
   "cell_type": "code",
   "execution_count": 16,
   "id": "d350f809",
   "metadata": {},
   "outputs": [],
   "source": [
    "df_['Fat'] = df_['BMI'].apply(translateBMI)"
   ]
  },
  {
   "cell_type": "code",
   "execution_count": 17,
   "id": "75ba2998",
   "metadata": {},
   "outputs": [
    {
     "data": {
      "image/png": "[encoded data removed]",
      "text/plain": [
       "<Figure size 432x288 with 1 Axes>"
      ]
     },
     "metadata": {
      "needs_background": "light"
     },
     "output_type": "display_data"
    }
   ],
   "source": [
    "sns.histplot(data=df_['Age'], kde=True);"
   ]
  },
  {
   "cell_type": "code",
   "execution_count": 18,
   "id": "53cefd6c",
   "metadata": {},
   "outputs": [
    {
     "data": {
      "image/png": "[encoded data removed]",
      "text/plain": [
       "<Figure size 720x720 with 1 Axes>"
      ]
     },
     "metadata": {
      "needs_background": "light"
     },
     "output_type": "display_data"
    }
   ],
   "source": [
    "sns.catplot(x='Fat', y='Age', data=df_, kind='box', height=10);"
   ]
  },
  {
   "cell_type": "code",
   "execution_count": 19,
   "id": "f5a57e6a",
   "metadata": {},
   "outputs": [
    {
     "data": {
      "image/png": "[encoded data removed]",
      "text/plain": [
       "<Figure size 432x288 with 1 Axes>"
      ]
     },
     "metadata": {
      "needs_background": "light"
     },
     "output_type": "display_data"
    }
   ],
   "source": [
    "sns.scatterplot(x='Age', y='Glucose', hue='Outcome', data=df_);"
   ]
  },
  {
   "cell_type": "code",
   "execution_count": 20,
   "id": "b1eca1bf",
   "metadata": {},
   "outputs": [
    {
     "data": {
      "text/plain": [
       "Index(['Pregnancies', 'Glucose', 'BloodPressure', 'SkinThickness', 'Insulin',\n",
       "       'BMI', 'DiabetesPedigreeFunction', 'Age', 'Outcome', 'Fat'],\n",
       "      dtype='object')"
      ]
     },
     "execution_count": 20,
     "metadata": {},
     "output_type": "execute_result"
    }
   ],
   "source": [
    "df_.columns"
   ]
  },
  {
   "cell_type": "code",
   "execution_count": 21,
   "id": "a5edd363",
   "metadata": {},
   "outputs": [
    {
     "data": {
      "image/png": "[encoded data removed]",
      "text/plain": [
       "<Figure size 432x288 with 1 Axes>"
      ]
     },
     "metadata": {},
     "output_type": "display_data"
    }
   ],
   "source": [
    "df_['Outcome'].value_counts().plot.pie(autopct='%.2f');"
   ]
  },
  {
   "cell_type": "code",
   "execution_count": 22,
   "id": "2297ba89",
   "metadata": {},
   "outputs": [
    {
     "data": {
      "text/html": [
       "<div>\n",
       "<style scoped>\n",
       "    .dataframe tbody tr th:only-of-type {\n",
       "        vertical-align: middle;\n",
       "    }\n",
       "\n",
       "    .dataframe tbody tr th {\n",
       "        vertical-align: top;\n",
       "    }\n",
       "\n",
       "    .dataframe thead th {\n",
       "        text-align: right;\n",
       "    }\n",
       "</style>\n",
       "<table border=\"1\" class=\"dataframe\">\n",
       "  <thead>\n",
       "    <tr style=\"text-align: right;\">\n",
       "      <th></th>\n",
       "      <th>Pregnancies</th>\n",
       "      <th>Glucose</th>\n",
       "      <th>BloodPressure</th>\n",
       "      <th>SkinThickness</th>\n",
       "      <th>Insulin</th>\n",
       "      <th>BMI</th>\n",
       "      <th>DiabetesPedigreeFunction</th>\n",
       "      <th>Age</th>\n",
       "      <th>Outcome</th>\n",
       "      <th>Fat_Normal</th>\n",
       "      <th>Fat_Obesity 1</th>\n",
       "      <th>Fat_Obesity 2</th>\n",
       "      <th>Fat_Obesity 3</th>\n",
       "      <th>Fat_Overweight</th>\n",
       "      <th>Fat_Underweight</th>\n",
       "    </tr>\n",
       "  </thead>\n",
       "  <tbody>\n",
       "    <tr>\n",
       "      <th>0</th>\n",
       "      <td>6.0</td>\n",
       "      <td>148.0</td>\n",
       "      <td>72.0</td>\n",
       "      <td>35.0</td>\n",
       "      <td>113.0</td>\n",
       "      <td>33.6</td>\n",
       "      <td>0.627</td>\n",
       "      <td>50.0</td>\n",
       "      <td>1.0</td>\n",
       "      <td>0</td>\n",
       "      <td>1</td>\n",
       "      <td>0</td>\n",
       "      <td>0</td>\n",
       "      <td>0</td>\n",
       "      <td>0</td>\n",
       "    </tr>\n",
       "    <tr>\n",
       "      <th>1</th>\n",
       "      <td>1.0</td>\n",
       "      <td>85.0</td>\n",
       "      <td>66.0</td>\n",
       "      <td>29.0</td>\n",
       "      <td>88.5</td>\n",
       "      <td>26.6</td>\n",
       "      <td>0.351</td>\n",
       "      <td>31.0</td>\n",
       "      <td>0.0</td>\n",
       "      <td>0</td>\n",
       "      <td>0</td>\n",
       "      <td>0</td>\n",
       "      <td>0</td>\n",
       "      <td>1</td>\n",
       "      <td>0</td>\n",
       "    </tr>\n",
       "    <tr>\n",
       "      <th>2</th>\n",
       "      <td>8.0</td>\n",
       "      <td>183.0</td>\n",
       "      <td>64.0</td>\n",
       "      <td>24.0</td>\n",
       "      <td>227.5</td>\n",
       "      <td>23.3</td>\n",
       "      <td>0.672</td>\n",
       "      <td>32.0</td>\n",
       "      <td>1.0</td>\n",
       "      <td>1</td>\n",
       "      <td>0</td>\n",
       "      <td>0</td>\n",
       "      <td>0</td>\n",
       "      <td>0</td>\n",
       "      <td>0</td>\n",
       "    </tr>\n",
       "    <tr>\n",
       "      <th>3</th>\n",
       "      <td>1.0</td>\n",
       "      <td>89.0</td>\n",
       "      <td>66.0</td>\n",
       "      <td>23.0</td>\n",
       "      <td>94.0</td>\n",
       "      <td>28.1</td>\n",
       "      <td>0.167</td>\n",
       "      <td>21.0</td>\n",
       "      <td>0.0</td>\n",
       "      <td>0</td>\n",
       "      <td>0</td>\n",
       "      <td>0</td>\n",
       "      <td>0</td>\n",
       "      <td>1</td>\n",
       "      <td>0</td>\n",
       "    </tr>\n",
       "    <tr>\n",
       "      <th>4</th>\n",
       "      <td>0.0</td>\n",
       "      <td>137.0</td>\n",
       "      <td>40.0</td>\n",
       "      <td>35.0</td>\n",
       "      <td>168.0</td>\n",
       "      <td>43.1</td>\n",
       "      <td>2.288</td>\n",
       "      <td>33.0</td>\n",
       "      <td>1.0</td>\n",
       "      <td>0</td>\n",
       "      <td>0</td>\n",
       "      <td>0</td>\n",
       "      <td>1</td>\n",
       "      <td>0</td>\n",
       "      <td>0</td>\n",
       "    </tr>\n",
       "    <tr>\n",
       "      <th>...</th>\n",
       "      <td>...</td>\n",
       "      <td>...</td>\n",
       "      <td>...</td>\n",
       "      <td>...</td>\n",
       "      <td>...</td>\n",
       "      <td>...</td>\n",
       "      <td>...</td>\n",
       "      <td>...</td>\n",
       "      <td>...</td>\n",
       "      <td>...</td>\n",
       "      <td>...</td>\n",
       "      <td>...</td>\n",
       "      <td>...</td>\n",
       "      <td>...</td>\n",
       "      <td>...</td>\n",
       "    </tr>\n",
       "    <tr>\n",
       "      <th>763</th>\n",
       "      <td>10.0</td>\n",
       "      <td>101.0</td>\n",
       "      <td>76.0</td>\n",
       "      <td>48.0</td>\n",
       "      <td>180.0</td>\n",
       "      <td>32.9</td>\n",
       "      <td>0.171</td>\n",
       "      <td>63.0</td>\n",
       "      <td>0.0</td>\n",
       "      <td>0</td>\n",
       "      <td>1</td>\n",
       "      <td>0</td>\n",
       "      <td>0</td>\n",
       "      <td>0</td>\n",
       "      <td>0</td>\n",
       "    </tr>\n",
       "    <tr>\n",
       "      <th>764</th>\n",
       "      <td>2.0</td>\n",
       "      <td>122.0</td>\n",
       "      <td>70.0</td>\n",
       "      <td>27.0</td>\n",
       "      <td>202.5</td>\n",
       "      <td>36.8</td>\n",
       "      <td>0.340</td>\n",
       "      <td>27.0</td>\n",
       "      <td>0.0</td>\n",
       "      <td>0</td>\n",
       "      <td>0</td>\n",
       "      <td>1</td>\n",
       "      <td>0</td>\n",
       "      <td>0</td>\n",
       "      <td>0</td>\n",
       "    </tr>\n",
       "    <tr>\n",
       "      <th>765</th>\n",
       "      <td>5.0</td>\n",
       "      <td>121.0</td>\n",
       "      <td>72.0</td>\n",
       "      <td>23.0</td>\n",
       "      <td>112.0</td>\n",
       "      <td>26.2</td>\n",
       "      <td>0.245</td>\n",
       "      <td>30.0</td>\n",
       "      <td>0.0</td>\n",
       "      <td>0</td>\n",
       "      <td>0</td>\n",
       "      <td>0</td>\n",
       "      <td>0</td>\n",
       "      <td>1</td>\n",
       "      <td>0</td>\n",
       "    </tr>\n",
       "    <tr>\n",
       "      <th>766</th>\n",
       "      <td>1.0</td>\n",
       "      <td>126.0</td>\n",
       "      <td>60.0</td>\n",
       "      <td>33.5</td>\n",
       "      <td>123.5</td>\n",
       "      <td>30.1</td>\n",
       "      <td>0.349</td>\n",
       "      <td>47.0</td>\n",
       "      <td>1.0</td>\n",
       "      <td>0</td>\n",
       "      <td>1</td>\n",
       "      <td>0</td>\n",
       "      <td>0</td>\n",
       "      <td>0</td>\n",
       "      <td>0</td>\n",
       "    </tr>\n",
       "    <tr>\n",
       "      <th>767</th>\n",
       "      <td>1.0</td>\n",
       "      <td>93.0</td>\n",
       "      <td>70.0</td>\n",
       "      <td>31.0</td>\n",
       "      <td>62.5</td>\n",
       "      <td>30.4</td>\n",
       "      <td>0.315</td>\n",
       "      <td>23.0</td>\n",
       "      <td>0.0</td>\n",
       "      <td>0</td>\n",
       "      <td>1</td>\n",
       "      <td>0</td>\n",
       "      <td>0</td>\n",
       "      <td>0</td>\n",
       "      <td>0</td>\n",
       "    </tr>\n",
       "  </tbody>\n",
       "</table>\n",
       "<p>768 rows × 15 columns</p>\n",
       "</div>"
      ],
      "text/plain": [
       "     Pregnancies  Glucose  BloodPressure  SkinThickness  Insulin   BMI  \\\n",
       "0            6.0    148.0           72.0           35.0    113.0  33.6   \n",
       "1            1.0     85.0           66.0           29.0     88.5  26.6   \n",
       "2            8.0    183.0           64.0           24.0    227.5  23.3   \n",
       "3            1.0     89.0           66.0           23.0     94.0  28.1   \n",
       "4            0.0    137.0           40.0           35.0    168.0  43.1   \n",
       "..           ...      ...            ...            ...      ...   ...   \n",
       "763         10.0    101.0           76.0           48.0    180.0  32.9   \n",
       "764          2.0    122.0           70.0           27.0    202.5  36.8   \n",
       "765          5.0    121.0           72.0           23.0    112.0  26.2   \n",
       "766          1.0    126.0           60.0           33.5    123.5  30.1   \n",
       "767          1.0     93.0           70.0           31.0     62.5  30.4   \n",
       "\n",
       "     DiabetesPedigreeFunction   Age  Outcome  Fat_Normal  Fat_Obesity 1  \\\n",
       "0                       0.627  50.0      1.0           0              1   \n",
       "1                       0.351  31.0      0.0           0              0   \n",
       "2                       0.672  32.0      1.0           1              0   \n",
       "3                       0.167  21.0      0.0           0              0   \n",
       "4                       2.288  33.0      1.0           0              0   \n",
       "..                        ...   ...      ...         ...            ...   \n",
       "763                     0.171  63.0      0.0           0              1   \n",
       "764                     0.340  27.0      0.0           0              0   \n",
       "765                     0.245  30.0      0.0           0              0   \n",
       "766                     0.349  47.0      1.0           0              1   \n",
       "767                     0.315  23.0      0.0           0              1   \n",
       "\n",
       "     Fat_Obesity 2  Fat_Obesity 3  Fat_Overweight  Fat_Underweight  \n",
       "0                0              0               0                0  \n",
       "1                0              0               1                0  \n",
       "2                0              0               0                0  \n",
       "3                0              0               1                0  \n",
       "4                0              1               0                0  \n",
       "..             ...            ...             ...              ...  \n",
       "763              0              0               0                0  \n",
       "764              1              0               0                0  \n",
       "765              0              0               1                0  \n",
       "766              0              0               0                0  \n",
       "767              0              0               0                0  \n",
       "\n",
       "[768 rows x 15 columns]"
      ]
     },
     "execution_count": 22,
     "metadata": {},
     "output_type": "execute_result"
    }
   ],
   "source": [
    "df_ = pd.get_dummies(df_, columns=['Fat'])\n",
    "df_"
   ]
  },
  {
   "cell_type": "code",
   "execution_count": 23,
   "id": "fbe05595",
   "metadata": {},
   "outputs": [],
   "source": [
    "df_.columns = df_.columns.str.replace(' ', '_').str.lower()"
   ]
  },
  {
   "cell_type": "code",
   "execution_count": 24,
   "id": "669ee589",
   "metadata": {},
   "outputs": [
    {
     "name": "stdout",
     "output_type": "stream",
     "text": [
      "<class 'pandas.core.frame.DataFrame'>\n",
      "RangeIndex: 768 entries, 0 to 767\n",
      "Data columns (total 15 columns):\n",
      " #   Column                    Non-Null Count  Dtype  \n",
      "---  ------                    --------------  -----  \n",
      " 0   pregnancies               768 non-null    float64\n",
      " 1   glucose                   768 non-null    float64\n",
      " 2   bloodpressure             768 non-null    float64\n",
      " 3   skinthickness             768 non-null    float64\n",
      " 4   insulin                   768 non-null    float64\n",
      " 5   bmi                       768 non-null    float64\n",
      " 6   diabetespedigreefunction  768 non-null    float64\n",
      " 7   age                       768 non-null    float64\n",
      " 8   outcome                   768 non-null    float64\n",
      " 9   fat_normal                768 non-null    uint8  \n",
      " 10  fat_obesity_1             768 non-null    uint8  \n",
      " 11  fat_obesity_2             768 non-null    uint8  \n",
      " 12  fat_obesity_3             768 non-null    uint8  \n",
      " 13  fat_overweight            768 non-null    uint8  \n",
      " 14  fat_underweight           768 non-null    uint8  \n",
      "dtypes: float64(9), uint8(6)\n",
      "memory usage: 58.6 KB\n"
     ]
    }
   ],
   "source": [
    "df_.info()"
   ]
  },
  {
   "cell_type": "code",
   "execution_count": 25,
   "id": "01de59f3",
   "metadata": {},
   "outputs": [],
   "source": [
    "X = df_.drop(['outcome'], axis=1)\n",
    "y = df_['outcome']"
   ]
  },
  {
   "cell_type": "code",
   "execution_count": 26,
   "id": "120f6380",
   "metadata": {},
   "outputs": [
    {
     "data": {
      "text/plain": [
       "0.0    500\n",
       "1.0    268\n",
       "Name: outcome, dtype: int64"
      ]
     },
     "execution_count": 26,
     "metadata": {},
     "output_type": "execute_result"
    }
   ],
   "source": [
    "y.value_counts()"
   ]
  },
  {
   "cell_type": "markdown",
   "id": "7b78c6cb",
   "metadata": {},
   "source": [
    "## Model"
   ]
  },
  {
   "cell_type": "code",
   "execution_count": 27,
   "id": "f1962983",
   "metadata": {},
   "outputs": [],
   "source": [
    "rus = RandomUnderSampler(sampling_strategy=1) \n",
    "X_res, y_res = rus.fit_resample(X, y)"
   ]
  },
  {
   "cell_type": "code",
   "execution_count": 28,
   "id": "65a3bc23",
   "metadata": {},
   "outputs": [
    {
     "data": {
      "text/plain": [
       "0.0    268\n",
       "1.0    268\n",
       "Name: outcome, dtype: int64"
      ]
     },
     "execution_count": 28,
     "metadata": {},
     "output_type": "execute_result"
    }
   ],
   "source": [
    "y_res.value_counts()"
   ]
  },
  {
   "cell_type": "code",
   "execution_count": 29,
   "id": "5f4cc938",
   "metadata": {},
   "outputs": [],
   "source": [
    "ros = RandomOverSampler(sampling_strategy='not majority')\n",
    "X_res2, y_res2 = ros.fit_resample(X, y)"
   ]
  },
  {
   "cell_type": "code",
   "execution_count": 30,
   "id": "a4ca75ba",
   "metadata": {},
   "outputs": [
    {
     "data": {
      "text/plain": [
       "1.0    500\n",
       "0.0    500\n",
       "Name: outcome, dtype: int64"
      ]
     },
     "execution_count": 30,
     "metadata": {},
     "output_type": "execute_result"
    }
   ],
   "source": [
    "y_res2.value_counts()"
   ]
  },
  {
   "cell_type": "code",
   "execution_count": 31,
   "id": "ace18840",
   "metadata": {},
   "outputs": [],
   "source": [
    "X_train, X_test, y_train, y_test = train_test_split(X_res, y_res, test_size=0.2, random_state=43)"
   ]
  },
  {
   "cell_type": "code",
   "execution_count": 32,
   "id": "a954f93f",
   "metadata": {
    "scrolled": false
   },
   "outputs": [
    {
     "name": "stdout",
     "output_type": "stream",
     "text": [
      "LR: 0.747508 (0.041077)\n",
      "KNN: 0.726800 (0.040918)\n",
      "DT: 0.675138 (0.059687)\n",
      "RF: 0.773367 (0.060655)\n",
      "SVM: 0.481229 (0.047043)\n",
      "GB: 0.771041 (0.053855)\n",
      "LGBM: 0.750055 (0.056784)\n"
     ]
    },
    {
     "data": {
      "image/png": "[encoded data removed]",
      "text/plain": [
       "<Figure size 432x288 with 1 Axes>"
      ]
     },
     "metadata": {
      "needs_background": "light"
     },
     "output_type": "display_data"
    }
   ],
   "source": [
    "models = []\n",
    "models.append(('LR', LogisticRegression()))\n",
    "models.append(('KNN', KNeighborsClassifier()))\n",
    "models.append(('DT', DecisionTreeClassifier()))\n",
    "models.append(('RF', RandomForestClassifier()))\n",
    "models.append(('SVM', SVC(gamma='auto')))\n",
    "models.append(('GB', GradientBoostingClassifier()))\n",
    "models.append(('LGBM', LGBMClassifier()))\n",
    "\n",
    "results = []\n",
    "names = []\n",
    "\n",
    "for name, model in models:\n",
    "    kfold = KFold(n_splits=10)\n",
    "    cv_results = cross_val_score(model, X_train, y_train, cv=kfold, scoring='accuracy')\n",
    "    results.append(cv_results)\n",
    "    names.append(name)\n",
    "    print('%s: %f (%f)' % (name, cv_results.mean(), cv_results.std()))\n",
    "    \n",
    "plt.boxplot(results, labels=names)\n",
    "plt.title('Algorithm Comparison')\n",
    "plt.show()"
   ]
  },
  {
   "cell_type": "markdown",
   "id": "c54c46a4",
   "metadata": {},
   "source": [
    "#### --- Ramdom Name"
   ]
  },
  {
   "cell_type": "code",
   "execution_count": 33,
   "id": "15b198cb",
   "metadata": {},
   "outputs": [],
   "source": [
    "CONSONANTS = ''.join(string.ascii_lowercase)\n",
    "NUMBERS = ''.join(string.digits)\n",
    "\n",
    "def generate_word(length):\n",
    "    word = \"\"\n",
    "    for i in range(length):\n",
    "        word += random.choice(CONSONANTS)\n",
    "        word += random.choice(NUMBERS)\n",
    "    return word"
   ]
  },
  {
   "cell_type": "markdown",
   "id": "a4c9ac66",
   "metadata": {},
   "source": [
    "### Gradient Boosting Model - Tuning"
   ]
  },
  {
   "cell_type": "code",
   "execution_count": null,
   "id": "ae949dee",
   "metadata": {},
   "outputs": [],
   "source": [
    "run = wandb.init(project='ml-diabetesexample', name='GB')"
   ]
  },
  {
   "cell_type": "code",
   "execution_count": 35,
   "id": "5e12c381",
   "metadata": {},
   "outputs": [
    {
     "name": "stdout",
     "output_type": "stream",
     "text": [
      "Fitting 10 folds for each of 4 candidates, totalling 40 fits\n"
     ]
    },
    {
     "data": {
      "text/plain": [
       "{'learning_rate': 0.1}"
      ]
     },
     "execution_count": 35,
     "metadata": {},
     "output_type": "execute_result"
    }
   ],
   "source": [
    "clf = GradientBoostingClassifier(random_state=43)\n",
    "\n",
    "clf_params = {'learning_rate': [0.01, 0.1, 0.2, 1],\n",
    "             'min_samples_split': np.linspace(0.1, 0.5, 10),\n",
    "             'max_depth': [3, 5, 8],\n",
    "             'subsample': [0.5, 0.9, 1.0],\n",
    "             'n_estimators': [100, 300, 500, 700, 900]\n",
    "            }\n",
    "\n",
    "clf_cv  = GridSearchCV(clf, clf_params, cv=10, n_jobs=-1, verbose=2).fit(X_train, y_train)\n",
    "clf_cv.best_params_"
   ]
  },
  {
   "cell_type": "code",
   "execution_count": 36,
   "id": "3abfb484",
   "metadata": {},
   "outputs": [],
   "source": [
    "clf_tuning = GradientBoostingClassifier(**clf_cv.best_params_).fit(X_train, y_train)"
   ]
  },
  {
   "cell_type": "code",
   "execution_count": 37,
   "id": "dfaa816b",
   "metadata": {},
   "outputs": [],
   "source": [
    "clf_tuning = clf_tuning.fit(X_train, y_train)"
   ]
  },
  {
   "cell_type": "code",
   "execution_count": 38,
   "id": "7ad47990",
   "metadata": {},
   "outputs": [],
   "source": [
    "y_pred = clf_tuning.predict(X_test)"
   ]
  },
  {
   "cell_type": "code",
   "execution_count": 39,
   "id": "51b9f923",
   "metadata": {},
   "outputs": [],
   "source": [
    "y_probas = clf_tuning.predict_proba(X_test)"
   ]
  },
  {
   "cell_type": "code",
   "execution_count": 40,
   "id": "8814cf8f",
   "metadata": {},
   "outputs": [
    {
     "name": "stdout",
     "output_type": "stream",
     "text": [
      "              precision    recall  f1-score   support\n",
      "\n",
      "         0.0       0.75      0.72      0.73        53\n",
      "         1.0       0.74      0.76      0.75        55\n",
      "\n",
      "    accuracy                           0.74       108\n",
      "   macro avg       0.74      0.74      0.74       108\n",
      "weighted avg       0.74      0.74      0.74       108\n",
      "\n"
     ]
    }
   ],
   "source": [
    "print(classification_report(y_test, y_pred))"
   ]
  },
  {
   "cell_type": "code",
   "execution_count": 41,
   "id": "720a784c",
   "metadata": {},
   "outputs": [
    {
     "data": {
      "text/plain": [
       "0.7920819490586932"
      ]
     },
     "execution_count": 41,
     "metadata": {},
     "output_type": "execute_result"
    }
   ],
   "source": [
    "cross_val_score(clf_tuning, X_train, y_train, cv=10).mean()"
   ]
  },
  {
   "cell_type": "code",
   "execution_count": 42,
   "id": "877a766f",
   "metadata": {},
   "outputs": [
    {
     "data": {
      "text/plain": [
       "array([0, 1])"
      ]
     },
     "execution_count": 42,
     "metadata": {},
     "output_type": "execute_result"
    }
   ],
   "source": [
    "labels = np.array([0, 1])\n",
    "#labels = np.array(['positive', 'negative'])\n",
    "labels"
   ]
  },
  {
   "cell_type": "code",
   "execution_count": 43,
   "id": "8b748a54",
   "metadata": {},
   "outputs": [
    {
     "data": {
      "text/plain": [
       "array(['pregnancies', 'glucose', 'bloodpressure', 'skinthickness',\n",
       "       'insulin', 'bmi', 'diabetespedigreefunction', 'age', 'fat_normal',\n",
       "       'fat_obesity_1', 'fat_obesity_2', 'fat_obesity_3',\n",
       "       'fat_overweight', 'fat_underweight'], dtype=object)"
      ]
     },
     "execution_count": 43,
     "metadata": {},
     "output_type": "execute_result"
    }
   ],
   "source": [
    "feature_names = np.array(X.columns)\n",
    "feature_names"
   ]
  },
  {
   "cell_type": "code",
   "execution_count": 44,
   "id": "1a985904",
   "metadata": {},
   "outputs": [],
   "source": [
    "modelname = generate_word(5) + '.pkl'\n",
    "pickle.dump(clf_tuning, open(os.path.join(wandb.run.dir, modelname), 'wb'))\n",
    "\n",
    "filename = os.path.join(wandb.run.dir, modelname)"
   ]
  },
  {
   "cell_type": "code",
   "execution_count": 45,
   "id": "7e11beaa",
   "metadata": {},
   "outputs": [],
   "source": [
    "wandb.config.update(clf_cv.best_params_)\n",
    "wandb.config.filemodel = wandb.run.dir + '/' + modelname"
   ]
  },
  {
   "cell_type": "code",
   "execution_count": null,
   "id": "52212c11",
   "metadata": {},
   "outputs": [],
   "source": [
    "wandb.sklearn.plot_classifier(clf_tuning, \n",
    "                              X_train, X_test, \n",
    "                              y_train, y_test, \n",
    "                              y_pred, y_probas, \n",
    "                              labels, \n",
    "                              is_binary=True, \n",
    "                              model_name='GradientBoosting',\n",
    "                              feature_names=feature_names)\n",
    "\n",
    "wandb.finish()"
   ]
  },
  {
   "cell_type": "code",
   "execution_count": null,
   "id": "2904adf0",
   "metadata": {},
   "outputs": [],
   "source": [
    "filename"
   ]
  },
  {
   "cell_type": "code",
   "execution_count": 49,
   "id": "1a77fe63",
   "metadata": {},
   "outputs": [
    {
     "data": {
      "text/plain": [
       "array([1.])"
      ]
     },
     "execution_count": 49,
     "metadata": {},
     "output_type": "execute_result"
    }
   ],
   "source": [
    "# inference model \n",
    "load_model = pickle.load(open(filename, 'rb'))\n",
    "load_model.predict([[7, 181, 84, 21, 192, 35.9, 0.599, 42, 0, 0, 1, 0, 0, 0]])"
   ]
  },
  {
   "cell_type": "markdown",
   "id": "87d5c4b6",
   "metadata": {},
   "source": [
    "### Random Forest Model - Tuning"
   ]
  },
  {
   "cell_type": "code",
   "execution_count": null,
   "id": "3a73a955",
   "metadata": {},
   "outputs": [],
   "source": [
    "run = wandb.init(project='ml-diabetesexample', name='RF')"
   ]
  },
  {
   "cell_type": "code",
   "execution_count": 51,
   "id": "393807fb",
   "metadata": {},
   "outputs": [
    {
     "name": "stdout",
     "output_type": "stream",
     "text": [
      "Fitting 10 folds for each of 4 candidates, totalling 40 fits\n"
     ]
    },
    {
     "data": {
      "text/plain": [
       "{'n_estimators': 100}"
      ]
     },
     "execution_count": 51,
     "metadata": {},
     "output_type": "execute_result"
    }
   ],
   "source": [
    "clf = RandomForestClassifier(random_state=43)\n",
    "\n",
    "clf_params = {'n_estimators': [100, 300, 500, 1000], \n",
    "             'max_features': [3, 5, 7], \n",
    "             'min_samples_split': [2, 5, 10, 30],\n",
    "             'max_depth': [3, 5, 8, None]\n",
    "            }\n",
    "\n",
    "clf_cv  = GridSearchCV(clf, clf_params, cv=10, n_jobs=-1, verbose=2).fit(X_train, y_train)\n",
    "clf_cv.best_params_"
   ]
  },
  {
   "cell_type": "code",
   "execution_count": 52,
   "id": "3e96acd2",
   "metadata": {},
   "outputs": [],
   "source": [
    "clf_tuning = RandomForestClassifier(**clf_cv.best_params_)"
   ]
  },
  {
   "cell_type": "code",
   "execution_count": 53,
   "id": "e404522e",
   "metadata": {},
   "outputs": [],
   "source": [
    "clf_tuning = clf_tuning.fit(X_train, y_train)"
   ]
  },
  {
   "cell_type": "code",
   "execution_count": 54,
   "id": "96247370",
   "metadata": {},
   "outputs": [],
   "source": [
    "y_pred = clf_tuning.predict(X_test)"
   ]
  },
  {
   "cell_type": "code",
   "execution_count": 55,
   "id": "7a0bef84",
   "metadata": {},
   "outputs": [],
   "source": [
    "y_probas = clf_tuning.predict_proba(X_test)"
   ]
  },
  {
   "cell_type": "code",
   "execution_count": 56,
   "id": "55eaa925",
   "metadata": {},
   "outputs": [
    {
     "name": "stdout",
     "output_type": "stream",
     "text": [
      "              precision    recall  f1-score   support\n",
      "\n",
      "         0.0       0.73      0.60      0.66        53\n",
      "         1.0       0.67      0.78      0.72        55\n",
      "\n",
      "    accuracy                           0.69       108\n",
      "   macro avg       0.70      0.69      0.69       108\n",
      "weighted avg       0.70      0.69      0.69       108\n",
      "\n"
     ]
    }
   ],
   "source": [
    "print(classification_report(y_test, y_pred))"
   ]
  },
  {
   "cell_type": "code",
   "execution_count": 57,
   "id": "20de9d7f",
   "metadata": {},
   "outputs": [
    {
     "data": {
      "text/plain": [
       "0.7898117386489479"
      ]
     },
     "execution_count": 57,
     "metadata": {},
     "output_type": "execute_result"
    }
   ],
   "source": [
    "cross_val_score(clf_tuning, X_train, y_train, cv=10).mean()"
   ]
  },
  {
   "cell_type": "code",
   "execution_count": null,
   "id": "d0d55862",
   "metadata": {},
   "outputs": [],
   "source": [
    "labels = np.array([0, 1])\n",
    "#labels = np.array(['positive', 'negative'])\n",
    "labels"
   ]
  },
  {
   "cell_type": "code",
   "execution_count": 58,
   "id": "4601f511",
   "metadata": {},
   "outputs": [
    {
     "data": {
      "text/plain": [
       "array(['pregnancies', 'glucose', 'bloodpressure', 'skinthickness',\n",
       "       'insulin', 'bmi', 'diabetespedigreefunction', 'age', 'fat_normal',\n",
       "       'fat_obesity_1', 'fat_obesity_2', 'fat_obesity_3',\n",
       "       'fat_overweight', 'fat_underweight'], dtype=object)"
      ]
     },
     "execution_count": 58,
     "metadata": {},
     "output_type": "execute_result"
    }
   ],
   "source": [
    "feature_names = np.array(X.columns)\n",
    "feature_names"
   ]
  },
  {
   "cell_type": "code",
   "execution_count": 59,
   "id": "ed836a28",
   "metadata": {},
   "outputs": [],
   "source": [
    "modelname = generate_word(5) + '.pkl'\n",
    "pickle.dump(clf_tuning, open(os.path.join(wandb.run.dir, modelname), 'wb'))\n",
    "\n",
    "filename = os.path.join(wandb.run.dir, modelname)"
   ]
  },
  {
   "cell_type": "code",
   "execution_count": 60,
   "id": "1eb1d059",
   "metadata": {},
   "outputs": [],
   "source": [
    "wandb.config.update(clf_cv.best_params_)\n",
    "wandb.config.filemodel = wandb.run.dir + '/' + modelname"
   ]
  },
  {
   "cell_type": "code",
   "execution_count": null,
   "id": "8ee12d04",
   "metadata": {},
   "outputs": [],
   "source": [
    "wandb.sklearn.plot_classifier(clf_tuning, \n",
    "                              X_train, X_test, \n",
    "                              y_train, y_test, \n",
    "                              y_pred, y_probas, \n",
    "                              labels, \n",
    "                              is_binary=True, \n",
    "                              model_name='RandomForest',\n",
    "                              feature_names=feature_names)\n",
    "\n",
    "wandb.finish()"
   ]
  },
  {
   "cell_type": "code",
   "execution_count": null,
   "id": "11907084",
   "metadata": {},
   "outputs": [],
   "source": [
    "filename"
   ]
  },
  {
   "cell_type": "code",
   "execution_count": 62,
   "id": "be97081c",
   "metadata": {},
   "outputs": [
    {
     "data": {
      "text/plain": [
       "array([1.])"
      ]
     },
     "execution_count": 62,
     "metadata": {},
     "output_type": "execute_result"
    }
   ],
   "source": [
    "# inference model \n",
    "load_model = pickle.load(open(filename, 'rb'))\n",
    "load_model.predict([[7, 181, 84, 21, 192, 35.9, 0.599, 42, 0, 0, 1, 0, 0, 0]])"
   ]
  },
  {
   "cell_type": "markdown",
   "id": "ae3391ba",
   "metadata": {},
   "source": [
    "### LGBM Model - Tuning"
   ]
  },
  {
   "cell_type": "code",
   "execution_count": null,
   "id": "75676402",
   "metadata": {},
   "outputs": [],
   "source": [
    "run = wandb.init(project='ml-diabetesexample', name='LGBM')"
   ]
  },
  {
   "cell_type": "code",
   "execution_count": 64,
   "id": "b1e4b2cf",
   "metadata": {},
   "outputs": [
    {
     "name": "stdout",
     "output_type": "stream",
     "text": [
      "Fitting 10 folds for each of 5 candidates, totalling 50 fits\n"
     ]
    },
    {
     "data": {
      "text/plain": [
       "{'learning_rate': 0.01}"
      ]
     },
     "execution_count": 64,
     "metadata": {},
     "output_type": "execute_result"
    }
   ],
   "source": [
    "clf = LGBMClassifier(random_state=43)\n",
    "\n",
    "clf_params = {'learning_rate': [0.01, 0.03, 0.05, 0.1, 0.5],\n",
    "               'n_estimators': [100, 500, 1000, 1500],\n",
    "               'max_depth': [3,5,8]\n",
    "              }\n",
    "\n",
    "clf_cv = GridSearchCV(clf, clf_params, cv=10, n_jobs=-1, verbose=2).fit(X_train, y_train)\n",
    "clf_cv.best_params_"
   ]
  },
  {
   "cell_type": "code",
   "execution_count": 65,
   "id": "d4185b28",
   "metadata": {},
   "outputs": [],
   "source": [
    "clf_tuning = LGBMClassifier(**clf_cv.best_params_).fit(X_train, y_train)"
   ]
  },
  {
   "cell_type": "code",
   "execution_count": 66,
   "id": "7128d532",
   "metadata": {},
   "outputs": [],
   "source": [
    "clf_tuning = clf_tuning.fit(X_train, y_train)"
   ]
  },
  {
   "cell_type": "code",
   "execution_count": 67,
   "id": "e209c13e",
   "metadata": {},
   "outputs": [],
   "source": [
    "y_pred = clf_tuning.predict(X_test)"
   ]
  },
  {
   "cell_type": "code",
   "execution_count": 68,
   "id": "b8119828",
   "metadata": {},
   "outputs": [],
   "source": [
    "y_probas = clf_tuning.predict_proba(X_test)"
   ]
  },
  {
   "cell_type": "code",
   "execution_count": 69,
   "id": "dca9b872",
   "metadata": {},
   "outputs": [
    {
     "name": "stdout",
     "output_type": "stream",
     "text": [
      "              precision    recall  f1-score   support\n",
      "\n",
      "         0.0       0.77      0.64      0.70        53\n",
      "         1.0       0.70      0.82      0.76        55\n",
      "\n",
      "    accuracy                           0.73       108\n",
      "   macro avg       0.74      0.73      0.73       108\n",
      "weighted avg       0.74      0.73      0.73       108\n",
      "\n"
     ]
    }
   ],
   "source": [
    "print(classification_report(y_test, y_pred))"
   ]
  },
  {
   "cell_type": "code",
   "execution_count": 70,
   "id": "fe891a88",
   "metadata": {},
   "outputs": [
    {
     "data": {
      "text/plain": [
       "0.7828349944629014"
      ]
     },
     "execution_count": 70,
     "metadata": {},
     "output_type": "execute_result"
    }
   ],
   "source": [
    "cross_val_score(clf_tuning, X_train, y_train, cv=10).mean()"
   ]
  },
  {
   "cell_type": "code",
   "execution_count": 71,
   "id": "0c844ab9",
   "metadata": {},
   "outputs": [
    {
     "data": {
      "text/plain": [
       "array([0, 1])"
      ]
     },
     "execution_count": 71,
     "metadata": {},
     "output_type": "execute_result"
    }
   ],
   "source": [
    "labels = np.array([0, 1])\n",
    "#labels = np.array(['positive', 'negative'])\n",
    "labels"
   ]
  },
  {
   "cell_type": "code",
   "execution_count": 72,
   "id": "82452924",
   "metadata": {},
   "outputs": [
    {
     "data": {
      "text/plain": [
       "array(['pregnancies', 'glucose', 'bloodpressure', 'skinthickness',\n",
       "       'insulin', 'bmi', 'diabetespedigreefunction', 'age', 'fat_normal',\n",
       "       'fat_obesity_1', 'fat_obesity_2', 'fat_obesity_3',\n",
       "       'fat_overweight', 'fat_underweight'], dtype=object)"
      ]
     },
     "execution_count": 72,
     "metadata": {},
     "output_type": "execute_result"
    }
   ],
   "source": [
    "feature_names = np.array(X.columns)\n",
    "feature_names"
   ]
  },
  {
   "cell_type": "code",
   "execution_count": 73,
   "id": "33b8ed71",
   "metadata": {},
   "outputs": [],
   "source": [
    "modelname = generate_word(5) + '.pkl'\n",
    "pickle.dump(clf_tuning, open(os.path.join(wandb.run.dir, modelname), 'wb'))\n",
    "\n",
    "filename = os.path.join(wandb.run.dir, modelname)"
   ]
  },
  {
   "cell_type": "code",
   "execution_count": 74,
   "id": "5f9f1e7d",
   "metadata": {},
   "outputs": [],
   "source": [
    "wandb.config.update(clf_cv.best_params_)\n",
    "wandb.config.filemodel = wandb.run.dir + '/' + modelname"
   ]
  },
  {
   "cell_type": "code",
   "execution_count": null,
   "id": "d4ec49cb",
   "metadata": {},
   "outputs": [],
   "source": [
    "wandb.sklearn.plot_classifier(clf_tuning, \n",
    "                              X_train, X_test, \n",
    "                              y_train, y_test, \n",
    "                              y_pred, y_probas, \n",
    "                              labels, \n",
    "                              is_binary=True, \n",
    "                              model_name='LightGBM',\n",
    "                              feature_names=feature_names)\n",
    "\n",
    "wandb.finish()"
   ]
  },
  {
   "cell_type": "code",
   "execution_count": null,
   "id": "a76844f9",
   "metadata": {},
   "outputs": [],
   "source": [
    "filename"
   ]
  },
  {
   "cell_type": "code",
   "execution_count": 77,
   "id": "ec6519fa",
   "metadata": {},
   "outputs": [
    {
     "data": {
      "text/plain": [
       "array([1.])"
      ]
     },
     "execution_count": 77,
     "metadata": {},
     "output_type": "execute_result"
    }
   ],
   "source": [
    "# inference model \n",
    "load_model = pickle.load(open(filename, 'rb'))\n",
    "load_model.predict([[7, 181, 84, 21, 192, 35.9, 0.599, 42, 0, 0, 1, 0, 0, 0]])"
   ]
  },
  {
   "cell_type": "markdown",
   "id": "ae0d5839",
   "metadata": {},
   "source": [
    "### Final Comparison Models"
   ]
  },
  {
   "cell_type": "code",
   "execution_count": 78,
   "id": "ef72e43a",
   "metadata": {},
   "outputs": [
    {
     "name": "stdout",
     "output_type": "stream",
     "text": [
      "GB: 0.775748 (0.047692)\n",
      "RF: 0.780399 (0.056117)\n",
      "LGBM: 0.735991 (0.062398)\n"
     ]
    },
    {
     "data": {
      "image/png": "[encoded data removed]",
      "text/plain": [
       "<Figure size 432x288 with 1 Axes>"
      ]
     },
     "metadata": {
      "needs_background": "light"
     },
     "output_type": "display_data"
    }
   ],
   "source": [
    "models = []\n",
    "models.append(('GB', GradientBoostingClassifier(random_state=43, max_depth=5, min_samples_split=0.1, n_estimators=100, subsample=0.9)))\n",
    "models.append(('RF', RandomForestClassifier(random_state=43, max_features=7, min_samples_split=5, n_estimators=500)))\n",
    "models.append(('LGBM', LGBMClassifier(random_state=43, learning_rate=0.05, max_depth=8, n_estimators=1500)))\n",
    "\n",
    "results = []\n",
    "names = []\n",
    "\n",
    "for name, model in models:\n",
    "    kfold = KFold(n_splits=10)\n",
    "    cv_results = cross_val_score(model, X_train, y_train, cv=kfold, scoring='accuracy')\n",
    "    results.append(cv_results)\n",
    "    names.append(name)\n",
    "    print('%s: %f (%f)' % (name, cv_results.mean(), cv_results.std()))\n",
    "    \n",
    "plt.boxplot(results, labels=names)\n",
    "plt.title('Algorithm Comparison')\n",
    "plt.show()"
   ]
  },
  {
   "cell_type": "code",
   "execution_count": null,
   "id": "c0d14787",
   "metadata": {},
   "outputs": [],
   "source": []
  },
  {
   "cell_type": "code",
   "execution_count": null,
   "id": "6222122b",
   "metadata": {},
   "outputs": [],
   "source": []
  }
 ],
 "metadata": {
  "kernelspec": {
   "display_name": "Python 3",
   "language": "python",
   "name": "python3"
  },
  "language_info": {
   "codemirror_mode": {
    "name": "ipython",
    "version": 3
   },
   "file_extension": ".py",
   "mimetype": "text/x-python",
   "name": "python",
   "nbconvert_exporter": "python",
   "pygments_lexer": "ipython3",
   "version": "3.7.3"
  }
 },
 "nbformat": 4,
 "nbformat_minor": 5
}
