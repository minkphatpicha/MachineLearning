{
 "cells": [
  {
   "cell_type": "markdown",
   "id": "3a915c40",
   "metadata": {},
   "source": [
    "Several constraints were placed on the selection of these instances from a larger database. In particular, all patients here are females at least 21 years old of Pima Indian heritage.\n",
    "\n",
    "- Pregnancies: Number of times pregnant\n",
    "- Glucose: Plasma glucose concentration a 2 hours in an oral glucose tolerance test\n",
    "- BloodPressure: Diastolic blood pressure (mm Hg)\n",
    "- SkinThickness: Triceps skin fold thickness (mm)\n",
    "- Insulin: 2-Hour serum insulin (mu U/ml)\n",
    "- BMI: Body mass index (weight in kg/(height in m)^2)\n",
    "- DiabetesPedigreeFunction: Diabetes pedigree function\n",
    "- Age: Age (years)\n",
    "- Outcome: Class variable (0 or 1)\n",
    "\n",
    "0 means that a female has non-diabetic and 1 means that a female is diabetes."
   ]
  },
  {
   "cell_type": "code",
   "execution_count": 1,
   "id": "9bd74f83",
   "metadata": {},
   "outputs": [],
   "source": [
    "import pandas as pd\n",
    "import numpy as np\n",
    "import matplotlib.pyplot as plt\n",
    "import seaborn as sns\n",
    "import missingno as msno\n",
    "import os\n",
    "import random\n",
    "import string\n",
    "import sys\n",
    "\n",
    "# sampling\n",
    "from imblearn.under_sampling import RandomUnderSampler\n",
    "from imblearn.over_sampling import RandomOverSampler\n",
    "\n",
    "from sklearn.pipeline import Pipeline\n",
    "from sklearn.preprocessing import StandardScaler, MaxAbsScaler, MinMaxScaler, Normalizer\n",
    "from sklearn.impute import KNNImputer\n",
    "from sklearn.model_selection import train_test_split, KFold, GridSearchCV, cross_val_score\n",
    "from sklearn.metrics import confusion_matrix, classification_report, accuracy_score\n",
    "\n",
    "from sklearn.linear_model import LogisticRegression\n",
    "from sklearn.neighbors import KNeighborsClassifier\n",
    "from sklearn.naive_bayes import MultinomialNB\n",
    "from sklearn.svm import SVC\n",
    "from sklearn.neural_network import MLPClassifier\n",
    "from sklearn.tree import DecisionTreeClassifier\n",
    "from sklearn.ensemble import RandomForestClassifier\n",
    "from sklearn.ensemble import GradientBoostingClassifier\n",
    "from lightgbm import LGBMClassifier\n",
    "\n",
    "import pickle\n",
    "\n",
    "import wandb\n",
    "\n",
    "import warnings\n",
    "warnings.filterwarnings('ignore')\n",
    "\n",
    "# feature selection\n",
    "from sklearn.feature_selection import SelectKBest\n",
    "from sklearn.feature_selection import chi2\n",
    "from mlxtend.feature_selection import SequentialFeatureSelector as SFS"
   ]
  },
  {
   "cell_type": "code",
   "execution_count": null,
   "id": "fd17818d",
   "metadata": {},
   "outputs": [],
   "source": [
    "wandb.login()"
   ]
  },
  {
   "cell_type": "code",
   "execution_count": 3,
   "id": "942e7b58",
   "metadata": {},
   "outputs": [],
   "source": [
    "df = pd.read_csv('diabetes.csv')"
   ]
  },
  {
   "cell_type": "code",
   "execution_count": 4,
   "id": "9603ea03",
   "metadata": {},
   "outputs": [],
   "source": [
    "df[['Glucose', 'BloodPressure', 'SkinThickness', 'Insulin', 'BMI', 'DiabetesPedigreeFunction']] = \\\n",
    "df[['Glucose', 'BloodPressure', 'SkinThickness', 'Insulin', 'BMI', 'DiabetesPedigreeFunction']].replace(0, np.NaN)"
   ]
  },
  {
   "cell_type": "code",
   "execution_count": 5,
   "id": "7c70714a",
   "metadata": {},
   "outputs": [],
   "source": [
    "imputer = KNNImputer(n_neighbors=2)\n",
    "df_ = pd.DataFrame(imputer.fit_transform(df),columns=df.columns)"
   ]
  },
  {
   "cell_type": "code",
   "execution_count": 6,
   "id": "de9743b5",
   "metadata": {},
   "outputs": [],
   "source": [
    "df_.columns = df_.columns.str.replace(' ', '_').str.lower()"
   ]
  },
  {
   "cell_type": "code",
   "execution_count": 7,
   "id": "df53e5cb",
   "metadata": {},
   "outputs": [
    {
     "name": "stdout",
     "output_type": "stream",
     "text": [
      "<class 'pandas.core.frame.DataFrame'>\n",
      "RangeIndex: 768 entries, 0 to 767\n",
      "Data columns (total 9 columns):\n",
      " #   Column                    Non-Null Count  Dtype  \n",
      "---  ------                    --------------  -----  \n",
      " 0   pregnancies               768 non-null    float64\n",
      " 1   glucose                   768 non-null    float64\n",
      " 2   bloodpressure             768 non-null    float64\n",
      " 3   skinthickness             768 non-null    float64\n",
      " 4   insulin                   768 non-null    float64\n",
      " 5   bmi                       768 non-null    float64\n",
      " 6   diabetespedigreefunction  768 non-null    float64\n",
      " 7   age                       768 non-null    float64\n",
      " 8   outcome                   768 non-null    float64\n",
      "dtypes: float64(9)\n",
      "memory usage: 54.1 KB\n"
     ]
    }
   ],
   "source": [
    "df_.info()"
   ]
  },
  {
   "cell_type": "code",
   "execution_count": 8,
   "id": "01de59f3",
   "metadata": {},
   "outputs": [],
   "source": [
    "X = df_.drop(['outcome'], axis=1)\n",
    "y = df_['outcome']"
   ]
  },
  {
   "cell_type": "code",
   "execution_count": 9,
   "id": "120f6380",
   "metadata": {},
   "outputs": [
    {
     "data": {
      "text/plain": [
       "0.0    500\n",
       "1.0    268\n",
       "Name: outcome, dtype: int64"
      ]
     },
     "execution_count": 9,
     "metadata": {},
     "output_type": "execute_result"
    }
   ],
   "source": [
    "y.value_counts()"
   ]
  },
  {
   "cell_type": "markdown",
   "id": "5c828e3a",
   "metadata": {},
   "source": [
    "#### --- Ramdom Name"
   ]
  },
  {
   "cell_type": "code",
   "execution_count": 10,
   "id": "f2e9d387",
   "metadata": {},
   "outputs": [],
   "source": [
    "CONSONANTS = ''.join(string.ascii_lowercase)\n",
    "NUMBERS = ''.join(string.digits)\n",
    "\n",
    "def generate_word(length):\n",
    "    word = \"\"\n",
    "    for i in range(length):\n",
    "        word += random.choice(CONSONANTS)\n",
    "        word += random.choice(NUMBERS)\n",
    "    return word"
   ]
  },
  {
   "cell_type": "markdown",
   "id": "fec9da9b",
   "metadata": {},
   "source": [
    "### Sampling"
   ]
  },
  {
   "cell_type": "code",
   "execution_count": 11,
   "id": "f1962983",
   "metadata": {},
   "outputs": [],
   "source": [
    "rus = RandomUnderSampler(sampling_strategy=1) \n",
    "X_res, y_res = rus.fit_resample(X, y)"
   ]
  },
  {
   "cell_type": "code",
   "execution_count": 12,
   "id": "65a3bc23",
   "metadata": {},
   "outputs": [
    {
     "data": {
      "text/plain": [
       "0.0    268\n",
       "1.0    268\n",
       "Name: outcome, dtype: int64"
      ]
     },
     "execution_count": 12,
     "metadata": {},
     "output_type": "execute_result"
    }
   ],
   "source": [
    "y_res.value_counts()"
   ]
  },
  {
   "cell_type": "code",
   "execution_count": 13,
   "id": "5f4cc938",
   "metadata": {},
   "outputs": [],
   "source": [
    "ros = RandomOverSampler(sampling_strategy='not majority')\n",
    "X_res2, y_res2 = ros.fit_resample(X, y)"
   ]
  },
  {
   "cell_type": "code",
   "execution_count": 14,
   "id": "a4ca75ba",
   "metadata": {},
   "outputs": [
    {
     "data": {
      "text/plain": [
       "1.0    500\n",
       "0.0    500\n",
       "Name: outcome, dtype: int64"
      ]
     },
     "execution_count": 14,
     "metadata": {},
     "output_type": "execute_result"
    }
   ],
   "source": [
    "y_res2.value_counts()"
   ]
  },
  {
   "cell_type": "markdown",
   "id": "7b78c6cb",
   "metadata": {},
   "source": [
    "## Pipeline (GridSearchCV & Tuning)"
   ]
  },
  {
   "cell_type": "code",
   "execution_count": 15,
   "id": "a3b88cf1",
   "metadata": {},
   "outputs": [],
   "source": [
    "kfold = KFold(n_splits=10, shuffle=True, random_state=10)"
   ]
  },
  {
   "cell_type": "code",
   "execution_count": 16,
   "id": "ace18840",
   "metadata": {},
   "outputs": [],
   "source": [
    "X_train, X_test, y_train, y_test = train_test_split(X_res, y_res, test_size=0.2, random_state=43)"
   ]
  },
  {
   "cell_type": "code",
   "execution_count": 17,
   "id": "7c2bc89d",
   "metadata": {},
   "outputs": [],
   "source": [
    "pipe_lr = Pipeline([('scaler', StandardScaler()),\n",
    "                    ('clf', LogisticRegression(random_state=42))])\n",
    "\n",
    "grid_params_lr = [{'scaler': [None, StandardScaler(), Normalizer()],\n",
    "                   'clf__penalty': ['l1', 'l2'],\n",
    "                   'clf__C': [0.01, 0.1, 1, 5, 10, 100],\n",
    "                   'clf__penalty': ['l1', 'l2'],\n",
    "                   'clf__class_weight': [None, {0: 1, 1: 5}, {0: 1, 1: 10}, {0: 1, 1: 25}],\n",
    "                 }]\n",
    "\n",
    "grid_lr = GridSearchCV(pipe_lr, grid_params_lr, cv=kfold, scoring='accuracy', verbose=1, n_jobs=-1)"
   ]
  },
  {
   "cell_type": "code",
   "execution_count": 18,
   "id": "2013a68e",
   "metadata": {},
   "outputs": [],
   "source": [
    "pipe_knn = Pipeline([('scaler', StandardScaler()),\n",
    "                     ('clf', KNeighborsClassifier())])\n",
    "\n",
    "grid_params_knn = [{'scaler': [None, StandardScaler(), Normalizer()],\n",
    "                    'clf__n_neighbors': [2, 5, 10, 25, 50]}]\n",
    "\n",
    "grid_knn = GridSearchCV(pipe_knn, grid_params_knn, cv=kfold, scoring='accuracy', verbose=1, n_jobs=-1)"
   ]
  },
  {
   "cell_type": "code",
   "execution_count": 19,
   "id": "a099efe7",
   "metadata": {},
   "outputs": [],
   "source": [
    "pipe_dt = Pipeline([('scaler', StandardScaler()),\n",
    "                    ('clf', DecisionTreeClassifier(random_state=42))])\n",
    "\n",
    "grid_params_dt = [{'scaler': [None, StandardScaler(), Normalizer()],\n",
    "                   'clf__max_depth': [5, 10, 25, None],\n",
    "                   'clf__min_samples_split': [2, 5, 10],\n",
    "                   'clf__class_weight': [None, {0: 1, 1: 5}, {0: 1, 1: 10}, {0: 1, 1: 25}],\n",
    "  \n",
    "                 }]\n",
    "\n",
    "grid_dt = GridSearchCV(pipe_dt, grid_params_dt, cv=kfold, scoring='accuracy', verbose=1, n_jobs=-1)"
   ]
  },
  {
   "cell_type": "code",
   "execution_count": 20,
   "id": "46e564a0",
   "metadata": {},
   "outputs": [],
   "source": [
    "pipe_rf = Pipeline([('scaler', StandardScaler()),\n",
    "                    ('clf', RandomForestClassifier(random_state=42))])\n",
    "\n",
    "grid_params_rf = [{'scaler': [None, StandardScaler(), Normalizer()],\n",
    "                   'clf__n_estimators': [100, 300, 500, 1000],\n",
    "                   'clf__max_depth': [3, 5, 10, 20, None],\n",
    "                   'clf__max_features': [3, 5, 7],\n",
    "                   'clf__class_weight': [None, {0: 1, 1: 5}, {0: 1, 1: 10}, {0: 1, 1: 25}],\n",
    "                 }]\n",
    "            \n",
    "grid_rf = GridSearchCV(pipe_rf, grid_params_rf, cv=kfold, scoring='accuracy', verbose=1, n_jobs=-1)"
   ]
  },
  {
   "cell_type": "code",
   "execution_count": 21,
   "id": "4a6bae5c",
   "metadata": {},
   "outputs": [],
   "source": [
    "pipe_svc = Pipeline([('scaler', StandardScaler()),\n",
    "                     ('clf', SVC(probability=True, random_state=42))])\n",
    "\n",
    "grid_params_svc = [{'scaler': [None, StandardScaler(), Normalizer()],\n",
    "                    'clf__C': [10**-2, 10**-1, 10**0, 10**1, 10**2],\n",
    "                    'clf__class_weight': [None, {0: 1, 1: 5}, {0: 1, 1: 10}, {0: 1, 1: 25}],\n",
    "                 }]\n",
    "        \n",
    "grid_svc = GridSearchCV(pipe_svc, grid_params_svc, cv=kfold, scoring='accuracy', verbose=1, n_jobs=-1)"
   ]
  },
  {
   "cell_type": "code",
   "execution_count": 22,
   "id": "c4b24690",
   "metadata": {},
   "outputs": [],
   "source": [
    "pipe_gb = Pipeline([('scaler', StandardScaler()),\n",
    "                    ('clf', GradientBoostingClassifier(random_state=42))])\n",
    "\n",
    "grid_params_gb = [{'scaler': [None, StandardScaler(), Normalizer()],\n",
    "                   'clf__learning_rate': [0.01, 0.1, 0.2, 1],\n",
    "                   'clf__n_estimators': [100, 300, 500, 700],\n",
    "                   'clf__max_depth': [3, 5, 10, 20],\n",
    "                   'clf__min_samples_split': np.linspace(0.1, 0.5, 10),\n",
    "                   'clf__subsample': [0.5, 0.9, 1.0],\n",
    "                 }]\n",
    "\n",
    "grid_gb = GridSearchCV(pipe_gb, grid_params_gb, cv=kfold, scoring='accuracy', verbose=1, n_jobs=-1)"
   ]
  },
  {
   "cell_type": "code",
   "execution_count": 23,
   "id": "e30d9a69",
   "metadata": {},
   "outputs": [],
   "source": [
    "pipe_lgbm = Pipeline([('scaler', StandardScaler()),\n",
    "                      ('clf', LGBMClassifier())])\n",
    "\n",
    "grid_params_lgbm = [{'scaler': [None, StandardScaler(), Normalizer()],\n",
    "                     'clf__learning_rate': [0.01, 0.03, 0.05, 0.1, 0.5],\n",
    "                     'clf__n_estimators': [100, 500, 1000, 1500],\n",
    "                     'clf__max_depth': [3,5,8],\n",
    "                 }]\n",
    "\n",
    "grid_lgbm = GridSearchCV(pipe_lgbm, grid_params_lgbm, cv=kfold, scoring='accuracy', verbose=1, n_jobs=-1)"
   ]
  },
  {
   "cell_type": "code",
   "execution_count": 24,
   "id": "e3221737",
   "metadata": {},
   "outputs": [],
   "source": [
    "pipe_nb = Pipeline([('scaler', StandardScaler()),\n",
    "                    ('clf', MultinomialNB())])\n",
    "\n",
    "grid_params_nb = [{'scaler': [None, StandardScaler(), Normalizer()],\n",
    "                   'clf__alpha': [0.1, 1],\n",
    "                   'clf__fit_prior': [True, False],\n",
    "                 }]\n",
    "\n",
    "grid_nb = GridSearchCV(pipe_nb, grid_params_nb, cv=kfold, scoring='accuracy', verbose=1, n_jobs=-1)"
   ]
  },
  {
   "cell_type": "code",
   "execution_count": 26,
   "id": "340253e1",
   "metadata": {},
   "outputs": [],
   "source": [
    "grids = [grid_lr, grid_knn, grid_dt, grid_rf, grid_svc, grid_gb, grid_lgbm, grid_nb]\n",
    "\n",
    "grid_dict = {0: 'Logistic Regression', \n",
    "             1: 'KNeighbors',\n",
    "             2: 'Decision Tree',\n",
    "             3: 'Random Forest',\n",
    "             4: 'SVC',\n",
    "             5: 'Gradient Boosting',\n",
    "             6: 'LGBM',\n",
    "             7: 'Naive Bayes'}"
   ]
  },
  {
   "cell_type": "code",
   "execution_count": 27,
   "id": "6f0d88f3",
   "metadata": {},
   "outputs": [
    {
     "data": {
      "text/plain": [
       "array([0, 1])"
      ]
     },
     "execution_count": 27,
     "metadata": {},
     "output_type": "execute_result"
    }
   ],
   "source": [
    "labels = np.array([0, 1])\n",
    "#labels = np.array(['positive', 'negative'])\n",
    "labels"
   ]
  },
  {
   "cell_type": "code",
   "execution_count": 28,
   "id": "f1741147",
   "metadata": {},
   "outputs": [
    {
     "data": {
      "text/plain": [
       "array(['pregnancies', 'glucose', 'bloodpressure', 'skinthickness',\n",
       "       'insulin', 'bmi', 'diabetespedigreefunction', 'age'], dtype=object)"
      ]
     },
     "execution_count": 28,
     "metadata": {},
     "output_type": "execute_result"
    }
   ],
   "source": [
    "feature_names = np.array(X.columns)\n",
    "feature_names"
   ]
  },
  {
   "cell_type": "code",
   "execution_count": 31,
   "id": "843f5ad6",
   "metadata": {},
   "outputs": [
    {
     "name": "stdout",
     "output_type": "stream",
     "text": [
      "\n",
      "Estimator: Logistic Regression\n",
      "Fitting 10 folds for each of 144 candidates, totalling 1440 fits\n",
      "Best params: {'clf__C': 1, 'clf__class_weight': None, 'clf__penalty': 'l2', 'scaler': StandardScaler()}\n",
      "Training accuracy: 0.764\n",
      "Test accuracy: 0.694 \n",
      "              precision    recall  f1-score   support\n",
      "\n",
      "         0.0       0.66      0.79      0.72        53\n",
      "         1.0       0.75      0.60      0.67        55\n",
      "\n",
      "    accuracy                           0.69       108\n",
      "   macro avg       0.70      0.70      0.69       108\n",
      "weighted avg       0.70      0.69      0.69       108\n",
      "\n",
      "\n",
      "Estimator: KNeighbors\n",
      "Fitting 10 folds for each of 15 candidates, totalling 150 fits\n",
      "Best params: {'clf__n_neighbors': 5, 'scaler': StandardScaler()}\n",
      "Training accuracy: 0.762\n",
      "Test accuracy: 0.769 \n",
      "              precision    recall  f1-score   support\n",
      "\n",
      "         0.0       0.75      0.79      0.77        53\n",
      "         1.0       0.79      0.75      0.77        55\n",
      "\n",
      "    accuracy                           0.77       108\n",
      "   macro avg       0.77      0.77      0.77       108\n",
      "weighted avg       0.77      0.77      0.77       108\n",
      "\n",
      "\n",
      "Estimator: Decision Tree\n",
      "Fitting 10 folds for each of 144 candidates, totalling 1440 fits\n",
      "Best params: {'clf__class_weight': None, 'clf__max_depth': 5, 'clf__min_samples_split': 5, 'scaler': None}\n",
      "Training accuracy: 0.745\n",
      "Test accuracy: 0.759 \n",
      "              precision    recall  f1-score   support\n",
      "\n",
      "         0.0       0.75      0.77      0.76        53\n",
      "         1.0       0.77      0.75      0.76        55\n",
      "\n",
      "    accuracy                           0.76       108\n",
      "   macro avg       0.76      0.76      0.76       108\n",
      "weighted avg       0.76      0.76      0.76       108\n",
      "\n",
      "\n",
      "Classifier with best test set accuracy: KNeighbors\n"
     ]
    }
   ],
   "source": [
    "best_acc = 0.0\n",
    "best_clf = 0\n",
    "best_gs = ''\n",
    "\n",
    "train_results = []\n",
    "test_results = []\n",
    "names = []\n",
    "\n",
    "for idx, gs in enumerate(grids):\n",
    "    run = wandb.init(project='ml-diabetesexample', name=grid_dict[idx])\n",
    "    print('\\nEstimator: %s' % grid_dict[idx])\n",
    "\n",
    "    # Fit\n",
    "    gs.fit(X_train, y_train)\n",
    "    print('Best params: %s' % gs.best_params_)\n",
    "    print('Training accuracy: %.3f' % gs.best_score_)\n",
    "    \n",
    "    # Predict \n",
    "    y_pred = gs.predict(X_test)\n",
    "    y_probas = gs.predict_proba(X_test)\n",
    "    print('Test accuracy: %.3f ' % accuracy_score(y_test, y_pred))\n",
    "    print(classification_report(y_test, y_pred))\n",
    "    \n",
    "    # Track results\n",
    "    train_results.append(gs.best_score_)\n",
    "    test_results.append(accuracy_score(y_test, y_pred))\n",
    "    names.append(grid_dict[idx])\n",
    "    \n",
    "    # wandb\n",
    "    modelname = generate_word(5) + '.pkl'\n",
    "    pickle.dump(gs, open(os.path.join(wandb.run.dir, modelname), 'wb'))\n",
    "    filename = os.path.join(wandb.run.dir, modelname)\n",
    "    \n",
    "    wandb.config.update(gs.best_params_)\n",
    "    wandb.config.filemodel = wandb.run.dir + '/' + modelname\n",
    "    wandb.config.train_acc = gs.best_score_\n",
    "    wandb.config.test_acc = accuracy_score(y_test, y_pred)\n",
    "    \n",
    "    wandb.sklearn.plot_classifier(gs, \n",
    "                              X_train, X_test, \n",
    "                              y_train, y_test, \n",
    "                              y_pred, y_probas, \n",
    "                              labels, \n",
    "                              is_binary=True, \n",
    "                              model_name=grid_dict[idx],\n",
    "                              feature_names=feature_names)\n",
    "    \n",
    "    wandb.finish()\n",
    "\n",
    "    # Track best model\n",
    "    if accuracy_score(y_test, y_pred) > best_acc:\n",
    "        best_acc = accuracy_score(y_test, y_pred)\n",
    "        best_gs = gs\n",
    "        best_clf = idx\n",
    "        \n",
    "print('\\nClassifier with best test set accuracy: %s' % grid_dict[best_clf])"
   ]
  },
  {
   "cell_type": "code",
   "execution_count": 32,
   "id": "79e0268e",
   "metadata": {},
   "outputs": [
    {
     "data": {
      "image/png": "[encoded data removed]",
      "text/plain": [
       "<Figure size 432x288 with 1 Axes>"
      ]
     },
     "metadata": {
      "needs_background": "light"
     },
     "output_type": "display_data"
    }
   ],
   "source": [
    "plt.bar(names, train_results)\n",
    "plt.title('Train Accuracy')\n",
    "plt.show()"
   ]
  },
  {
   "cell_type": "code",
   "execution_count": 33,
   "id": "daefce94",
   "metadata": {
    "scrolled": true
   },
   "outputs": [
    {
     "data": {
      "image/png": "[encoded data removed]",
      "text/plain": [
       "<Figure size 432x288 with 1 Axes>"
      ]
     },
     "metadata": {
      "needs_background": "light"
     },
     "output_type": "display_data"
    }
   ],
   "source": [
    "plt.bar(names, test_results)\n",
    "plt.title('Test Accuracy')\n",
    "plt.show()"
   ]
  },
  {
   "cell_type": "code",
   "execution_count": null,
   "id": "9628ef6d",
   "metadata": {},
   "outputs": [],
   "source": []
  }
 ],
 "metadata": {
  "kernelspec": {
   "display_name": "Python 3",
   "language": "python",
   "name": "python3"
  },
  "language_info": {
   "codemirror_mode": {
    "name": "ipython",
    "version": 3
   },
   "file_extension": ".py",
   "mimetype": "text/x-python",
   "name": "python",
   "nbconvert_exporter": "python",
   "pygments_lexer": "ipython3",
   "version": "3.7.3"
  }
 },
 "nbformat": 4,
 "nbformat_minor": 5
}
