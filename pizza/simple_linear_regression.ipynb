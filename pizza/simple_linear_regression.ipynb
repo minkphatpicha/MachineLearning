{
 "cells": [
  {
   "cell_type": "code",
   "execution_count": 1,
   "id": "c4c116ef",
   "metadata": {},
   "outputs": [],
   "source": [
    "import pandas as pd\n",
    "import numpy as np\n",
    "import matplotlib.pyplot as plt\n",
    "import seaborn as sns\n",
    "\n",
    "from sklearn.model_selection import train_test_split,GridSearchCV, cross_val_score\n",
    "from sklearn.metrics import explained_variance_score, r2_score, mean_absolute_error, mean_squared_error\n",
    "\n",
    "from sklearn.linear_model import LinearRegression\n",
    "\n",
    "import pickle\n",
    "\n",
    "import warnings\n",
    "warnings.filterwarnings('ignore')"
   ]
  },
  {
   "cell_type": "code",
   "execution_count": 2,
   "id": "91200536",
   "metadata": {},
   "outputs": [
    {
     "data": {
      "text/html": [
       "<div>\n",
       "<style scoped>\n",
       "    .dataframe tbody tr th:only-of-type {\n",
       "        vertical-align: middle;\n",
       "    }\n",
       "\n",
       "    .dataframe tbody tr th {\n",
       "        vertical-align: top;\n",
       "    }\n",
       "\n",
       "    .dataframe thead th {\n",
       "        text-align: right;\n",
       "    }\n",
       "</style>\n",
       "<table border=\"1\" class=\"dataframe\">\n",
       "  <thead>\n",
       "    <tr style=\"text-align: right;\">\n",
       "      <th></th>\n",
       "      <th>0</th>\n",
       "      <th>1</th>\n",
       "    </tr>\n",
       "  </thead>\n",
       "  <tbody>\n",
       "    <tr>\n",
       "      <th>0</th>\n",
       "      <td>1087.0</td>\n",
       "      <td>1213</td>\n",
       "    </tr>\n",
       "    <tr>\n",
       "      <th>1</th>\n",
       "      <td>1070.0</td>\n",
       "      <td>1275</td>\n",
       "    </tr>\n",
       "    <tr>\n",
       "      <th>2</th>\n",
       "      <td>1100.0</td>\n",
       "      <td>1300</td>\n",
       "    </tr>\n",
       "    <tr>\n",
       "      <th>3</th>\n",
       "      <td>1150.0</td>\n",
       "      <td>1300</td>\n",
       "    </tr>\n",
       "    <tr>\n",
       "      <th>4</th>\n",
       "      <td>1250.0</td>\n",
       "      <td>1400</td>\n",
       "    </tr>\n",
       "  </tbody>\n",
       "</table>\n",
       "</div>"
      ],
      "text/plain": [
       "        0     1\n",
       "0  1087.0  1213\n",
       "1  1070.0  1275\n",
       "2  1100.0  1300\n",
       "3  1150.0  1300\n",
       "4  1250.0  1400"
      ]
     },
     "execution_count": 2,
     "metadata": {},
     "output_type": "execute_result"
    }
   ],
   "source": [
    "df = pd.read_csv('Pizza Franchise.csv', header=None)\n",
    "df.head()"
   ]
  },
  {
   "cell_type": "code",
   "execution_count": 3,
   "id": "811b3687",
   "metadata": {},
   "outputs": [],
   "source": [
    "#X = annual franchise fee ($1000)\n",
    "#Y = start up cost ($1000)\n",
    "\n",
    "df.columns = ['fee', 'cost']"
   ]
  },
  {
   "cell_type": "code",
   "execution_count": 4,
   "id": "442e52d9",
   "metadata": {},
   "outputs": [
    {
     "name": "stdout",
     "output_type": "stream",
     "text": [
      "<class 'pandas.core.frame.DataFrame'>\n",
      "RangeIndex: 34 entries, 0 to 33\n",
      "Data columns (total 2 columns):\n",
      " #   Column  Non-Null Count  Dtype  \n",
      "---  ------  --------------  -----  \n",
      " 0   fee     33 non-null     float64\n",
      " 1   cost    34 non-null     int64  \n",
      "dtypes: float64(1), int64(1)\n",
      "memory usage: 672.0 bytes\n"
     ]
    }
   ],
   "source": [
    "df.info()"
   ]
  },
  {
   "cell_type": "code",
   "execution_count": 5,
   "id": "313ab48b",
   "metadata": {},
   "outputs": [],
   "source": [
    "df.dropna(inplace=True)"
   ]
  },
  {
   "cell_type": "code",
   "execution_count": 6,
   "id": "3782ef8c",
   "metadata": {},
   "outputs": [],
   "source": [
    "X = df[['fee']]\n",
    "y = df['cost']"
   ]
  },
  {
   "cell_type": "code",
   "execution_count": 7,
   "id": "ee2af0e7",
   "metadata": {},
   "outputs": [],
   "source": [
    "lr = LinearRegression()"
   ]
  },
  {
   "cell_type": "code",
   "execution_count": 8,
   "id": "6eeea838",
   "metadata": {},
   "outputs": [
    {
     "data": {
      "text/plain": [
       "LinearRegression()"
      ]
     },
     "execution_count": 8,
     "metadata": {},
     "output_type": "execute_result"
    }
   ],
   "source": [
    "lr.fit(X, y)"
   ]
  },
  {
   "cell_type": "code",
   "execution_count": 9,
   "id": "2a0384e4",
   "metadata": {},
   "outputs": [
    {
     "name": "stdout",
     "output_type": "stream",
     "text": [
      "Intercept:  915.6803740908333\n",
      "Coefficient:  [0.33961664]\n"
     ]
    }
   ],
   "source": [
    "print('Intercept: ', lr.intercept_)\n",
    "print('Coefficient: ', lr.coef_)"
   ]
  },
  {
   "cell_type": "code",
   "execution_count": 10,
   "id": "f05e6aab",
   "metadata": {},
   "outputs": [],
   "source": [
    "y_pred = lr.predict(X)"
   ]
  },
  {
   "cell_type": "code",
   "execution_count": 11,
   "id": "ea091c53",
   "metadata": {},
   "outputs": [
    {
     "data": {
      "image/png": "[encoded data removed]",
      "text/plain": [
       "<Figure size 432x288 with 1 Axes>"
      ]
     },
     "metadata": {
      "needs_background": "light"
     },
     "output_type": "display_data"
    }
   ],
   "source": [
    "plt.scatter(X, y)\n",
    "plt.title('Fee vs Cost')\n",
    "plt.ylabel('Annual franchise fee')\n",
    "plt.xlabel('Start up cost')\n",
    "plt.plot(X, y_pred, 'r')\n",
    "plt.show()"
   ]
  },
  {
   "cell_type": "code",
   "execution_count": 12,
   "id": "990703d8",
   "metadata": {},
   "outputs": [
    {
     "data": {
      "text/plain": [
       "array([1425.10533445])"
      ]
     },
     "execution_count": 12,
     "metadata": {},
     "output_type": "execute_result"
    }
   ],
   "source": [
    "lr.predict([[1500]])"
   ]
  },
  {
   "cell_type": "code",
   "execution_count": 13,
   "id": "63f2a575",
   "metadata": {},
   "outputs": [
    {
     "name": "stdout",
     "output_type": "stream",
     "text": [
      "R Squared: 0.21714542029207295\n",
      "Mean Absolute Error: 67.09651164448599\n",
      "Root Mean Squared Error: 103.96191045499299\n"
     ]
    }
   ],
   "source": [
    "print('R Squared:', r2_score(y, y_pred))\n",
    "print('Mean Absolute Error:', mean_absolute_error(y, y_pred))\n",
    "print('Root Mean Squared Error:', np.sqrt(mean_squared_error(y, y_pred)))"
   ]
  },
  {
   "cell_type": "markdown",
   "id": "1625a672",
   "metadata": {},
   "source": [
    "### Other way"
   ]
  },
  {
   "cell_type": "code",
   "execution_count": 14,
   "id": "17903378",
   "metadata": {},
   "outputs": [],
   "source": [
    "import statsmodels\n",
    "import statsmodels.api as sm"
   ]
  },
  {
   "cell_type": "code",
   "execution_count": 15,
   "id": "10e8f4c2",
   "metadata": {},
   "outputs": [],
   "source": [
    "X_sm = sm.add_constant(X)"
   ]
  },
  {
   "cell_type": "code",
   "execution_count": 16,
   "id": "f7da9710",
   "metadata": {},
   "outputs": [],
   "source": [
    "lr = sm.OLS(y, X_sm)\n",
    "lr_model = lr.fit()"
   ]
  },
  {
   "cell_type": "code",
   "execution_count": 17,
   "id": "8b6e287a",
   "metadata": {},
   "outputs": [
    {
     "data": {
      "text/html": [
       "<table class=\"simpletable\">\n",
       "<caption>OLS Regression Results</caption>\n",
       "<tr>\n",
       "  <th>Dep. Variable:</th>          <td>cost</td>       <th>  R-squared:         </th> <td>   0.217</td>\n",
       "</tr>\n",
       "<tr>\n",
       "  <th>Model:</th>                   <td>OLS</td>       <th>  Adj. R-squared:    </th> <td>   0.192</td>\n",
       "</tr>\n",
       "<tr>\n",
       "  <th>Method:</th>             <td>Least Squares</td>  <th>  F-statistic:       </th> <td>   8.599</td>\n",
       "</tr>\n",
       "<tr>\n",
       "  <th>Date:</th>             <td>Tue, 27 Dec 2022</td> <th>  Prob (F-statistic):</th>  <td>0.00627</td>\n",
       "</tr>\n",
       "<tr>\n",
       "  <th>Time:</th>                 <td>03:07:51</td>     <th>  Log-Likelihood:    </th> <td> -200.08</td>\n",
       "</tr>\n",
       "<tr>\n",
       "  <th>No. Observations:</th>      <td>    33</td>      <th>  AIC:               </th> <td>   404.2</td>\n",
       "</tr>\n",
       "<tr>\n",
       "  <th>Df Residuals:</th>          <td>    31</td>      <th>  BIC:               </th> <td>   407.1</td>\n",
       "</tr>\n",
       "<tr>\n",
       "  <th>Df Model:</th>              <td>     1</td>      <th>                     </th>     <td> </td>   \n",
       "</tr>\n",
       "<tr>\n",
       "  <th>Covariance Type:</th>      <td>nonrobust</td>    <th>                     </th>     <td> </td>   \n",
       "</tr>\n",
       "</table>\n",
       "<table class=\"simpletable\">\n",
       "<tr>\n",
       "    <td></td>       <th>coef</th>     <th>std err</th>      <th>t</th>      <th>P>|t|</th>  <th>[0.025</th>    <th>0.975]</th>  \n",
       "</tr>\n",
       "<tr>\n",
       "  <th>const</th> <td>  915.6804</td> <td>  133.439</td> <td>    6.862</td> <td> 0.000</td> <td>  643.529</td> <td> 1187.832</td>\n",
       "</tr>\n",
       "<tr>\n",
       "  <th>fee</th>   <td>    0.3396</td> <td>    0.116</td> <td>    2.932</td> <td> 0.006</td> <td>    0.103</td> <td>    0.576</td>\n",
       "</tr>\n",
       "</table>\n",
       "<table class=\"simpletable\">\n",
       "<tr>\n",
       "  <th>Omnibus:</th>       <td>38.076</td> <th>  Durbin-Watson:     </th> <td>   1.980</td>\n",
       "</tr>\n",
       "<tr>\n",
       "  <th>Prob(Omnibus):</th> <td> 0.000</td> <th>  Jarque-Bera (JB):  </th> <td> 136.327</td>\n",
       "</tr>\n",
       "<tr>\n",
       "  <th>Skew:</th>          <td> 2.434</td> <th>  Prob(JB):          </th> <td>2.49e-30</td>\n",
       "</tr>\n",
       "<tr>\n",
       "  <th>Kurtosis:</th>      <td>11.687</td> <th>  Cond. No.          </th> <td>8.23e+03</td>\n",
       "</tr>\n",
       "</table><br/><br/>Notes:<br/>[1] Standard Errors assume that the covariance matrix of the errors is correctly specified.<br/>[2] The condition number is large, 8.23e+03. This might indicate that there are<br/>strong multicollinearity or other numerical problems."
      ],
      "text/plain": [
       "<class 'statsmodels.iolib.summary.Summary'>\n",
       "\"\"\"\n",
       "                            OLS Regression Results                            \n",
       "==============================================================================\n",
       "Dep. Variable:                   cost   R-squared:                       0.217\n",
       "Model:                            OLS   Adj. R-squared:                  0.192\n",
       "Method:                 Least Squares   F-statistic:                     8.599\n",
       "Date:                Tue, 27 Dec 2022   Prob (F-statistic):            0.00627\n",
       "Time:                        03:07:51   Log-Likelihood:                -200.08\n",
       "No. Observations:                  33   AIC:                             404.2\n",
       "Df Residuals:                      31   BIC:                             407.1\n",
       "Df Model:                           1                                         \n",
       "Covariance Type:            nonrobust                                         \n",
       "==============================================================================\n",
       "                 coef    std err          t      P>|t|      [0.025      0.975]\n",
       "------------------------------------------------------------------------------\n",
       "const        915.6804    133.439      6.862      0.000     643.529    1187.832\n",
       "fee            0.3396      0.116      2.932      0.006       0.103       0.576\n",
       "==============================================================================\n",
       "Omnibus:                       38.076   Durbin-Watson:                   1.980\n",
       "Prob(Omnibus):                  0.000   Jarque-Bera (JB):              136.327\n",
       "Skew:                           2.434   Prob(JB):                     2.49e-30\n",
       "Kurtosis:                      11.687   Cond. No.                     8.23e+03\n",
       "==============================================================================\n",
       "\n",
       "Notes:\n",
       "[1] Standard Errors assume that the covariance matrix of the errors is correctly specified.\n",
       "[2] The condition number is large, 8.23e+03. This might indicate that there are\n",
       "strong multicollinearity or other numerical problems.\n",
       "\"\"\""
      ]
     },
     "execution_count": 17,
     "metadata": {},
     "output_type": "execute_result"
    }
   ],
   "source": [
    "lr_model.summary()"
   ]
  },
  {
   "cell_type": "code",
   "execution_count": 18,
   "id": "b8fd298a",
   "metadata": {},
   "outputs": [
    {
     "data": {
      "image/png": "[encoded data removed]",
      "text/plain": [
       "<Figure size 432x288 with 1 Axes>"
      ]
     },
     "metadata": {
      "needs_background": "light"
     },
     "output_type": "display_data"
    }
   ],
   "source": [
    "y_pred_sm = lr_model.predict(X_sm)\n",
    "\n",
    "plt.scatter(X, y)\n",
    "plt.plot(X, y_pred_sm, 'r')\n",
    "plt.show()"
   ]
  },
  {
   "cell_type": "code",
   "execution_count": null,
   "id": "7828a660",
   "metadata": {},
   "outputs": [],
   "source": []
  }
 ],
 "metadata": {
  "kernelspec": {
   "display_name": "Python 3",
   "language": "python",
   "name": "python3"
  },
  "language_info": {
   "codemirror_mode": {
    "name": "ipython",
    "version": 3
   },
   "file_extension": ".py",
   "mimetype": "text/x-python",
   "name": "python",
   "nbconvert_exporter": "python",
   "pygments_lexer": "ipython3",
   "version": "3.7.3"
  }
 },
 "nbformat": 4,
 "nbformat_minor": 5
}
